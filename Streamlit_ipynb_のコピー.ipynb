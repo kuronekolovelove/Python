{
  "nbformat": 4,
  "nbformat_minor": 0,
  "metadata": {
    "colab": {
      "name": "Streamlit.ipynb のコピー",
      "provenance": [],
      "collapsed_sections": [],
      "include_colab_link": true
    },
    "kernelspec": {
      "name": "python3",
      "display_name": "Python 3"
    },
    "accelerator": "GPU"
  },
  "cells": [
    {
      "cell_type": "markdown",
      "metadata": {
        "id": "view-in-github",
        "colab_type": "text"
      },
      "source": [
        "<a href=\"https://colab.research.google.com/github/kuronekolovelove/Python/blob/main/Streamlit_ipynb_%E3%81%AE%E3%82%B3%E3%83%94%E3%83%BC.ipynb\" target=\"_parent\"><img src=\"https://colab.research.google.com/assets/colab-badge.svg\" alt=\"Open In Colab\"/></a>"
      ]
    },
    {
      "cell_type": "markdown",
      "metadata": {
        "id": "wDHvXuOmx9_1"
      },
      "source": [
        "# 第4回 みんなで学ぼう！Pythonによるデータサイエンス\n",
        "\n",
        "## Streamlitを使ってみよう\n",
        "\n",
        "今回は、Webアプリをあっという間に公開できるStreamlitというライブラリを使ってみましょう！\n",
        "\n",
        "## 目次\n",
        "\n",
        "1. Streamlitの使いみち\n",
        "1. 今回使用するコード\n",
        "1. まとめ"
      ]
    },
    {
      "cell_type": "markdown",
      "metadata": {
        "id": "Nn1GH_vhyNT1"
      },
      "source": [
        "## 1. Streamlitの使いみち\n",
        "\n",
        "データ解析をしたあとには、誰かにその結果を見せる必要があります。通常、データの可視化には**matplotlib**を使いますが、**matplotlibの結果を見せるためにはPythonのコードも見えてしまいます**。\n",
        "\n",
        "でも**解析結果を知るときにコードは不要**ですよね？\n",
        "\n",
        "特に非エンジニアの方に説明するときに、ごちゃごちゃしたコードが見えているだけで「難しそう」、「読むのが面倒」と思われてしまいます。\n",
        "\n",
        "そこで結果をぱっと示すためにStreamlitを使うわけです。\n",
        "\n",
        "### Streamlitを使わない場合の解析結果の見せ方\n",
        "\n",
        "多少コードを見せても良いのであれば、このGoogle ColabのようなJupyterノートブックでも良いですね。\n",
        "\n",
        "あとは、GitHubの機能の一つ、**Gist**でも良いでしょう。これはGoogle Colabとは違って公開の期限がありません。「公開」設定にしておけばいつでも誰でも見ることができます（逆にGoogle Colabでは公開しても一定期間が過ぎると自動的に非公開になります）。"
      ]
    },
    {
      "cell_type": "markdown",
      "metadata": {
        "id": "rlhjl3be0L-n"
      },
      "source": [
        "## 2. 今回使用するコード\n",
        "\n",
        "今回使用するコードは以下の**3つのセル**だけです！\n",
        "\n",
        "めちゃくちゃ簡単ですね。\n",
        "\n",
        "以下のコードはStreamlitを使うためのコードであるので、実際にデータ解析のためのコードは別途用意する必要があります（これは後ほど説明）。\n"
      ]
    },
    {
      "cell_type": "markdown",
      "metadata": {
        "id": "cJmpbERM0rDW"
      },
      "source": [
        "### ライブラリのインストール\n",
        "\n",
        "StreamlitをGoogle Colabにインストールします。\n",
        "\n",
        "初回のインストール時（ランタイムの初期化時）には、以下のセルを実行後に**最後にエラーが出ます**。エラーメッセージは「ランタイムをリセットしてね」という内容なので、メッセージにしたがってリセットします。\n",
        "\n",
        "リセットボタンも出現するので、それを押すだけでOKです。"
      ]
    },
    {
      "cell_type": "code",
      "metadata": {
        "id": "jne2vrmG8c2A"
      },
      "source": [
        "# ライブラリのインストール\n",
        "!pip install streamlit"
      ],
      "execution_count": null,
      "outputs": []
    },
    {
      "cell_type": "markdown",
      "metadata": {
        "id": "FG5HMFeK0qD-"
      },
      "source": [
        "### Streamlitを稼働させる\n",
        "\n",
        "以下のコードでStreamlitを動かします。\n",
        "\n",
        "`streamlit hello`でチュートリアルが動きます。\n",
        "\n",
        "実際には`streamlit run <file_path>`で目的のPythonファイルを指定してください。ここではチュートリアル画面を見てみることから始めます。"
      ]
    },
    {
      "cell_type": "code",
      "metadata": {
        "colab": {
          "base_uri": "https://localhost:8080/"
        },
        "id": "SJXSGI-M9Hc6",
        "outputId": "e6fb37e9-ae58-4a81-b97b-6304189932b2"
      },
      "source": [
        "%%bash --bg\n",
        "\n",
        "streamlit hello > debug.log 2>&1"
      ],
      "execution_count": null,
      "outputs": [
        {
          "output_type": "stream",
          "text": [
            "Starting job # 0 in a separate thread.\n"
          ],
          "name": "stdout"
        }
      ]
    },
    {
      "cell_type": "markdown",
      "metadata": {
        "id": "2nre44Os1plQ"
      },
      "source": [
        "### Cloudflareを使用する\n",
        "\n",
        "Streamlitを動かすと、サーバが立ち上がり`localhost:8501`のポートを介してSteamlitの表示内容を見ることができます。\n",
        "\n",
        "自分のパソコンの環境にStreamlitをインストールしている場合には、ウェブブラウザにそのまま`localhost:8501`と入れれば、Steamlitが提示している内容を見ることができます。\n",
        "\n",
        "ですが、**今回はGoogle Colab上で動いている**Streamlitが提示する内容を見たいわけです。つまり**Googleのサーバの8501ポートに行かなければその内容を見ることはできません**。\n",
        "\n",
        "そして重要なのは、**自分のGoogle Colabを動かしているサーバの場所なんてわからない**ってことです。さらに言えば、場所がわかってもそんなに簡単にポートを介してサーバの中には入れません。だって**他人のパソコンに侵入している**のと同じことですからね。\n",
        "\n",
        "異なるマシンの中の内容を見るためには、然るべき手続きと手順を踏まねばならないのです。\n",
        "\n",
        "その手順を踏んでくれるのが**Cloudflare**です。\n",
        "\n",
        "例えば、リモートワークで自宅のパソコンから社内のサーバにアクセスするときには、自分でその環境を作る必要がありますが、Cloudflareはその環境を代わりに作ってくれます。"
      ]
    },
    {
      "cell_type": "code",
      "metadata": {
        "id": "oLc2l0z49cuJ",
        "colab": {
          "base_uri": "https://localhost:8080/"
        },
        "outputId": "d20a9bd8-e6c6-4270-c91a-7ed751ce7799"
      },
      "source": [
        "!wget https://bin.equinox.io/c/VdrWdbjqyF/cloudflared-stable-linux-amd64.deb\n",
        "!dpkg -i cloudflared-stable-linux-amd64.deb\n",
        "!cloudflared tunnel --url localhost:8501"
      ],
      "execution_count": null,
      "outputs": [
        {
          "output_type": "stream",
          "text": [
            "--2021-01-13 12:29:30--  https://bin.equinox.io/c/VdrWdbjqyF/cloudflared-stable-linux-amd64.deb\n",
            "Resolving bin.equinox.io (bin.equinox.io)... 54.198.148.204, 35.174.46.144, 52.54.16.202, ...\n",
            "Connecting to bin.equinox.io (bin.equinox.io)|54.198.148.204|:443... connected.\n",
            "HTTP request sent, awaiting response... 200 OK\n",
            "Length: 17513020 (17M) [application/octet-stream]\n",
            "Saving to: ‘cloudflared-stable-linux-amd64.deb’\n",
            "\n",
            "cloudflared-stable- 100%[===================>]  16.70M  21.7MB/s    in 0.8s    \n",
            "\n",
            "2021-01-13 12:29:31 (21.7 MB/s) - ‘cloudflared-stable-linux-amd64.deb’ saved [17513020/17513020]\n",
            "\n",
            "Selecting previously unselected package cloudflared.\n",
            "(Reading database ... 145483 files and directories currently installed.)\n",
            "Preparing to unpack cloudflared-stable-linux-amd64.deb ...\n",
            "Unpacking cloudflared (2020.12.0) ...\n",
            "Setting up cloudflared (2020.12.0) ...\n",
            "\u001b[36mINFO\u001b[0m[2021-01-13T12:29:33Z] Cannot determine default configuration path. No file [config.yml config.yaml] in [~/.cloudflared ~/.cloudflare-warp ~/cloudflare-warp /etc/cloudflared /usr/local/etc/cloudflared]\n",
            "\u001b[36mINFO\u001b[0m[2021-01-13T12:29:33Z] Version 2020.12.0\n",
            "\u001b[36mINFO\u001b[0m[2021-01-13T12:29:33Z] GOOS: linux, GOVersion: go1.15.6, GoArch: amd64\n",
            "\u001b[36mINFO\u001b[0m[2021-01-13T12:29:33Z] Environment variables map[proxy-dns-upstream:https://1.1.1.1/dns-query, https://1.0.0.1/dns-query url:localhost:8501]\n",
            "\u001b[36mINFO\u001b[0m[2021-01-13T12:29:33Z] cloudflared will not automatically update when run from the shell. To enable auto-updates, run cloudflared as a service: https://developers.cloudflare.com/argo-tunnel/reference/service/\n",
            "\u001b[36mINFO\u001b[0m[2021-01-13T12:29:33Z] Initial protocol h2mux\n",
            "\u001b[36mINFO\u001b[0m[2021-01-13T12:29:33Z] Starting metrics server on 127.0.0.1:34307/metrics\n",
            "\u001b[36mINFO\u001b[0m[2021-01-13T12:29:33Z] Connnection 0 connected to SEA\n",
            "\u001b[36mINFO\u001b[0m[2021-01-13T12:29:34Z] Each HA connection's tunnel IDs: map[0:ersbkls7gpe72v5xkghaa5z35cnku54811cvnu6lver4619pz0i0]\n",
            "\u001b[36mINFO\u001b[0m[2021-01-13T12:29:34Z] +--------------------------------------------------------------+\n",
            "\u001b[36mINFO\u001b[0m[2021-01-13T12:29:34Z] |  Your free tunnel has started! Visit it:                     |\n",
            "\u001b[36mINFO\u001b[0m[2021-01-13T12:29:34Z] |    https://user-cosmetic-provides-bradley.trycloudflare.com  |\n",
            "\u001b[36mINFO\u001b[0m[2021-01-13T12:29:34Z] +--------------------------------------------------------------+\n",
            "\u001b[36mINFO\u001b[0m[2021-01-13T12:29:34Z] Route propagating, it may take up to 1 minute for your new route to become functional\n",
            "\u001b[36mINFO\u001b[0m[2021-01-13T12:29:34Z] Connnection 1 connected to LAX\n",
            "\u001b[36mINFO\u001b[0m[2021-01-13T12:29:35Z] Connnection 2 connected to SEA\n",
            "\u001b[36mINFO\u001b[0m[2021-01-13T12:29:35Z] Each HA connection's tunnel IDs: map[0:ersbkls7gpe72v5xkghaa5z35cnku54811cvnu6lver4619pz0i0 1:ersbkls7gpe72v5xkghaa5z35cnku54811cvnu6lver4619pz0i0]\n",
            "\u001b[36mINFO\u001b[0m[2021-01-13T12:29:35Z] +--------------------------------------------------------------+\n",
            "\u001b[36mINFO\u001b[0m[2021-01-13T12:29:35Z] |  Your free tunnel has started! Visit it:                     |\n",
            "\u001b[36mINFO\u001b[0m[2021-01-13T12:29:35Z] |    https://user-cosmetic-provides-bradley.trycloudflare.com  |\n",
            "\u001b[36mINFO\u001b[0m[2021-01-13T12:29:35Z] +--------------------------------------------------------------+\n",
            "\u001b[36mINFO\u001b[0m[2021-01-13T12:29:35Z] Route propagating, it may take up to 1 minute for your new route to become functional\n",
            "\u001b[36mINFO\u001b[0m[2021-01-13T12:29:36Z] Each HA connection's tunnel IDs: map[0:ersbkls7gpe72v5xkghaa5z35cnku54811cvnu6lver4619pz0i0 1:ersbkls7gpe72v5xkghaa5z35cnku54811cvnu6lver4619pz0i0 2:ersbkls7gpe72v5xkghaa5z35cnku54811cvnu6lver4619pz0i0]\n",
            "\u001b[36mINFO\u001b[0m[2021-01-13T12:29:36Z] +--------------------------------------------------------------+\n",
            "\u001b[36mINFO\u001b[0m[2021-01-13T12:29:36Z] |  Your free tunnel has started! Visit it:                     |\n",
            "\u001b[36mINFO\u001b[0m[2021-01-13T12:29:36Z] |    https://user-cosmetic-provides-bradley.trycloudflare.com  |\n",
            "\u001b[36mINFO\u001b[0m[2021-01-13T12:29:36Z] +--------------------------------------------------------------+\n",
            "\u001b[36mINFO\u001b[0m[2021-01-13T12:29:36Z] Route propagating, it may take up to 1 minute for your new route to become functional\n",
            "\u001b[36mINFO\u001b[0m[2021-01-13T12:29:36Z] Connnection 3 connected to LAX\n",
            "\u001b[36mINFO\u001b[0m[2021-01-13T12:29:37Z] Each HA connection's tunnel IDs: map[0:ersbkls7gpe72v5xkghaa5z35cnku54811cvnu6lver4619pz0i0 1:ersbkls7gpe72v5xkghaa5z35cnku54811cvnu6lver4619pz0i0 2:ersbkls7gpe72v5xkghaa5z35cnku54811cvnu6lver4619pz0i0 3:ersbkls7gpe72v5xkghaa5z35cnku54811cvnu6lver4619pz0i0]\n",
            "\u001b[36mINFO\u001b[0m[2021-01-13T12:29:37Z] +--------------------------------------------------------------+\n",
            "\u001b[36mINFO\u001b[0m[2021-01-13T12:29:37Z] |  Your free tunnel has started! Visit it:                     |\n",
            "\u001b[36mINFO\u001b[0m[2021-01-13T12:29:37Z] |    https://user-cosmetic-provides-bradley.trycloudflare.com  |\n",
            "\u001b[36mINFO\u001b[0m[2021-01-13T12:29:37Z] +--------------------------------------------------------------+\n",
            "\u001b[36mINFO\u001b[0m[2021-01-13T12:29:37Z] Route propagating, it may take up to 1 minute for your new route to become functional\n",
            "\u001b[36mINFO\u001b[0m[2021-01-13T12:29:37Z] mux - metrics: Stopping mux metrics updater\n",
            "\u001b[36mINFO\u001b[0m[2021-01-13T12:40:18Z] Initiating graceful shutdown due to signal interrupt ...\n",
            "^C\n"
          ],
          "name": "stdout"
        }
      ]
    },
    {
      "cell_type": "markdown",
      "metadata": {
        "id": "jNO5KkRC4uEZ"
      },
      "source": [
        "INFO[2021-01-13T12:29:34Z]+--------------------------------------------------------------+  \n",
        "\n",
        "INFO[2021-01-13T12:29:34Z] |  Your free tunnel has started! Visit it:                     |  \n",
        "\n",
        "INFO[2021-01-13T12:29:34Z] |    https://user-cosmetic-provides-bradley.trycloudflare.com  |  \n",
        "\n",
        "INFO[2021-01-13T12:29:34Z] +--------------------------------------------------------------+  \n",
        "\n",
        "上記のような返り値が4つ返ってくるはずですので、そのURLにアクセスすればStreamlitの表示内容を確認することができます。\n",
        "\n",
        "**URLは毎回変わるので、この例で示したURLをクリックしても意味ない**ですよ。自分のColabで出た結果を使ってくださいね。"
      ]
    },
    {
      "cell_type": "code",
      "metadata": {
        "colab": {
          "base_uri": "https://localhost:8080/"
        },
        "id": "l3KDZN1n_ZqF",
        "outputId": "7c196e9a-900d-46c9-a649-3803f4d329e6"
      },
      "source": [
        "# 自分のPythonファイルを使用する場合\n",
        "# streamlit hello のところを変更する\n",
        "\n",
        "%%bash --bg\n",
        "\n",
        "streamlit run /content/drive/MyDrive/Colab\\ Notebooks/minpy/004_20210114/test.py > debug.log 2>&1"
      ],
      "execution_count": null,
      "outputs": [
        {
          "output_type": "stream",
          "text": [
            "Starting job # 0 in a separate thread.\n"
          ],
          "name": "stdout"
        }
      ]
    },
    {
      "cell_type": "code",
      "metadata": {
        "colab": {
          "base_uri": "https://localhost:8080/"
        },
        "id": "t_sFWSe2-7jv",
        "outputId": "aa5f6bba-ed0b-4135-d478-f59a9e9b5ad7"
      },
      "source": [
        "!wget https://bin.equinox.io/c/VdrWdbjqyF/cloudflared-stable-linux-amd64.deb\n",
        "!dpkg -i cloudflared-stable-linux-amd64.deb\n",
        "!cloudflared tunnel --url localhost:8501"
      ],
      "execution_count": null,
      "outputs": [
        {
          "output_type": "stream",
          "text": [
            "--2021-01-13 15:31:52--  https://bin.equinox.io/c/VdrWdbjqyF/cloudflared-stable-linux-amd64.deb\n",
            "Resolving bin.equinox.io (bin.equinox.io)... 34.193.233.154, 3.213.223.141, 3.94.231.163, ...\n",
            "Connecting to bin.equinox.io (bin.equinox.io)|34.193.233.154|:443... connected.\n",
            "HTTP request sent, awaiting response... 200 OK\n",
            "Length: 17513020 (17M) [application/octet-stream]\n",
            "Saving to: ‘cloudflared-stable-linux-amd64.deb.5’\n",
            "\n",
            "cloudflared-stable- 100%[===================>]  16.70M  20.1MB/s    in 0.8s    \n",
            "\n",
            "2021-01-13 15:31:53 (20.1 MB/s) - ‘cloudflared-stable-linux-amd64.deb.5’ saved [17513020/17513020]\n",
            "\n",
            "(Reading database ... 145486 files and directories currently installed.)\n",
            "Preparing to unpack cloudflared-stable-linux-amd64.deb ...\n",
            "Unpacking cloudflared (2020.12.0) over (2020.12.0) ...\n",
            "Setting up cloudflared (2020.12.0) ...\n",
            "\u001b[36mINFO\u001b[0m[2021-01-13T15:31:55Z] Cannot determine default configuration path. No file [config.yml config.yaml] in [~/.cloudflared ~/.cloudflare-warp ~/cloudflare-warp /etc/cloudflared /usr/local/etc/cloudflared]\n",
            "\u001b[36mINFO\u001b[0m[2021-01-13T15:31:55Z] Version 2020.12.0\n",
            "\u001b[36mINFO\u001b[0m[2021-01-13T15:31:55Z] GOOS: linux, GOVersion: go1.15.6, GoArch: amd64\n",
            "\u001b[36mINFO\u001b[0m[2021-01-13T15:31:55Z] Environment variables map[proxy-dns-upstream:https://1.1.1.1/dns-query, https://1.0.0.1/dns-query url:localhost:8501]\n",
            "\u001b[36mINFO\u001b[0m[2021-01-13T15:31:55Z] cloudflared will not automatically update when run from the shell. To enable auto-updates, run cloudflared as a service: https://developers.cloudflare.com/argo-tunnel/reference/service/\n",
            "\u001b[36mINFO\u001b[0m[2021-01-13T15:31:55Z] Initial protocol h2mux\n",
            "\u001b[36mINFO\u001b[0m[2021-01-13T15:31:55Z] Starting metrics server on 127.0.0.1:34513/metrics\n",
            "\u001b[36mINFO\u001b[0m[2021-01-13T15:31:55Z] Connnection 0 connected to SEA\n",
            "\u001b[36mINFO\u001b[0m[2021-01-13T15:31:56Z] Each HA connection's tunnel IDs: map[0:np6izk5rui4nevpn71giuz8by1b01xa97ccx433ktlq7hyuc56l0]\n",
            "\u001b[36mINFO\u001b[0m[2021-01-13T15:31:56Z] +--------------------------------------------------------------+\n",
            "\u001b[36mINFO\u001b[0m[2021-01-13T15:31:56Z] |  Your free tunnel has started! Visit it:                     |\n",
            "\u001b[36mINFO\u001b[0m[2021-01-13T15:31:56Z] |    https://independence-relying-python-jp.trycloudflare.com  |\n",
            "\u001b[36mINFO\u001b[0m[2021-01-13T15:31:56Z] +--------------------------------------------------------------+\n",
            "\u001b[36mINFO\u001b[0m[2021-01-13T15:31:56Z] Route propagating, it may take up to 1 minute for your new route to become functional\n",
            "\u001b[36mINFO\u001b[0m[2021-01-13T15:31:56Z] Connnection 1 connected to LAX\n",
            "\u001b[36mINFO\u001b[0m[2021-01-13T15:31:57Z] Connnection 2 connected to SEA\n",
            "\u001b[36mINFO\u001b[0m[2021-01-13T15:31:57Z] Each HA connection's tunnel IDs: map[0:np6izk5rui4nevpn71giuz8by1b01xa97ccx433ktlq7hyuc56l0 1:np6izk5rui4nevpn71giuz8by1b01xa97ccx433ktlq7hyuc56l0]\n",
            "\u001b[36mINFO\u001b[0m[2021-01-13T15:31:57Z] +--------------------------------------------------------------+\n",
            "\u001b[36mINFO\u001b[0m[2021-01-13T15:31:57Z] |  Your free tunnel has started! Visit it:                     |\n",
            "\u001b[36mINFO\u001b[0m[2021-01-13T15:31:57Z] |    https://independence-relying-python-jp.trycloudflare.com  |\n",
            "\u001b[36mINFO\u001b[0m[2021-01-13T15:31:57Z] +--------------------------------------------------------------+\n",
            "\u001b[36mINFO\u001b[0m[2021-01-13T15:31:57Z] Route propagating, it may take up to 1 minute for your new route to become functional\n",
            "\u001b[36mINFO\u001b[0m[2021-01-13T15:31:58Z] Each HA connection's tunnel IDs: map[0:np6izk5rui4nevpn71giuz8by1b01xa97ccx433ktlq7hyuc56l0 1:np6izk5rui4nevpn71giuz8by1b01xa97ccx433ktlq7hyuc56l0 2:np6izk5rui4nevpn71giuz8by1b01xa97ccx433ktlq7hyuc56l0]\n",
            "\u001b[36mINFO\u001b[0m[2021-01-13T15:31:58Z] +--------------------------------------------------------------+\n",
            "\u001b[36mINFO\u001b[0m[2021-01-13T15:31:58Z] |  Your free tunnel has started! Visit it:                     |\n",
            "\u001b[36mINFO\u001b[0m[2021-01-13T15:31:58Z] |    https://independence-relying-python-jp.trycloudflare.com  |\n",
            "\u001b[36mINFO\u001b[0m[2021-01-13T15:31:58Z] +--------------------------------------------------------------+\n",
            "\u001b[36mINFO\u001b[0m[2021-01-13T15:31:58Z] Route propagating, it may take up to 1 minute for your new route to become functional\n",
            "\u001b[36mINFO\u001b[0m[2021-01-13T15:31:58Z] Connnection 3 connected to LAX\n",
            "\u001b[36mINFO\u001b[0m[2021-01-13T15:31:59Z] Each HA connection's tunnel IDs: map[0:np6izk5rui4nevpn71giuz8by1b01xa97ccx433ktlq7hyuc56l0 1:np6izk5rui4nevpn71giuz8by1b01xa97ccx433ktlq7hyuc56l0 2:np6izk5rui4nevpn71giuz8by1b01xa97ccx433ktlq7hyuc56l0 3:np6izk5rui4nevpn71giuz8by1b01xa97ccx433ktlq7hyuc56l0]\n",
            "\u001b[36mINFO\u001b[0m[2021-01-13T15:31:59Z] +--------------------------------------------------------------+\n",
            "\u001b[36mINFO\u001b[0m[2021-01-13T15:31:59Z] |  Your free tunnel has started! Visit it:                     |\n",
            "\u001b[36mINFO\u001b[0m[2021-01-13T15:31:59Z] |    https://independence-relying-python-jp.trycloudflare.com  |\n",
            "\u001b[36mINFO\u001b[0m[2021-01-13T15:31:59Z] +--------------------------------------------------------------+\n",
            "\u001b[36mINFO\u001b[0m[2021-01-13T15:31:59Z] Route propagating, it may take up to 1 minute for your new route to become functional\n",
            "\u001b[36mINFO\u001b[0m[2021-01-13T15:31:59Z] mux - metrics: Stopping mux metrics updater\n"
          ],
          "name": "stdout"
        }
      ]
    },
    {
      "cell_type": "markdown",
      "metadata": {
        "id": "yk6D5rh455FA"
      },
      "source": [
        "## まとめ\n",
        "\n",
        "今回はこれだけです。\n",
        "\n",
        "Streamlit恐るべしですね。はじめてのデータ可視化がStreamlitの方は「何がすごいんだ」と感じるかもしれませんが、自分でmatplotlibやbokeh, seabornを動かしてきた方にとっては「ひょえー」となる内容だったのではないでしょうか。\n",
        "\n",
        "実際にデータ解析を行っているPythonファイルは以下のURLで公開していますので、参考にしてください。\n",
        "\n",
        "https://drive.google.com/file/d/1-5DjNN_wxUn509hEGaQAW-OqO8hitnSE/view?usp=sharing"
      ]
    },
    {
      "cell_type": "code",
      "metadata": {
        "id": "WJVKqFWC9ZMD"
      },
      "source": [
        ""
      ],
      "execution_count": null,
      "outputs": []
    }
  ]
}