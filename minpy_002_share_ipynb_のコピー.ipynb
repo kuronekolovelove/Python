{
  "nbformat": 4,
  "nbformat_minor": 0,
  "metadata": {
    "colab": {
      "name": "minpy_002_share.ipynb のコピー",
      "provenance": [],
      "collapsed_sections": [
        "RzuQv7WRdV7P",
        "sgjlmakugaWR"
      ],
      "toc_visible": true
    },
    "kernelspec": {
      "name": "python3",
      "display_name": "Python 3"
    }
  },
  "cells": [
    {
      "cell_type": "markdown",
      "metadata": {
        "id": "fKgv5MBLbcJy"
      },
      "source": [
        "# 【第2回】みんなで学ぼう！Pythonによるデータサイエンス【オンライン】\n",
        "\n",
        "今回はPythonのデータ分析ライブラリPandasについて学びます。\n",
        "\n",
        "以下のURLから今回使用するデータをダウンロードして、自身のGoogle Driveに置いてください。\n",
        "\n",
        "https://drive.google.com/drive/folders/1kkktqY86wAkKVzKaeBCPLQuFB-WYb5AQ?usp=sharing"
      ]
    },
    {
      "cell_type": "markdown",
      "metadata": {
        "id": "1MJ-lJcSb7gK"
      },
      "source": [
        "## 【1】 ざっとデータを確認しよう\n",
        "\n",
        "今回は、あなたが「このデータを分析してください」という依頼を受けたという設定です。\n",
        "\n",
        "あなたは6つのCSVファイルを受け取りましたが、どうしてほしいかは聞いていません。  \n",
        "依頼者のデータ解析に対する知識は少ないため、具体的な指示ができないためです。\n",
        "\n",
        "そこであなたはまずどんなデータを受け取ったのかを確認することにしました。"
      ]
    },
    {
      "cell_type": "code",
      "metadata": {
        "colab": {
          "base_uri": "https://localhost:8080/"
        },
        "id": "fMolXKVca0fn",
        "outputId": "ff5edda6-42b0-4111-c8fb-f038d43de27d"
      },
      "source": [
        "from google.colab import drive\n",
        "drive.mount('/content/drive')"
      ],
      "execution_count": null,
      "outputs": [
        {
          "output_type": "stream",
          "text": [
            "Mounted at /content/drive\n"
          ],
          "name": "stdout"
        }
      ]
    },
    {
      "cell_type": "markdown",
      "metadata": {
        "id": "RzuQv7WRdV7P"
      },
      "source": [
        "### データの読み込み\n",
        "\n",
        "`pandas.read_csv()`\n",
        "\n",
        "### データの確認\n",
        "\n",
        "`df.head()`"
      ]
    },
    {
      "cell_type": "markdown",
      "metadata": {
        "id": "k4atjLXdd-hS"
      },
      "source": [
        "### 課題1\n",
        "\n",
        "customer_master.csv には何件のデータがありますか？"
      ]
    },
    {
      "cell_type": "code",
      "metadata": {
        "colab": {
          "base_uri": "https://localhost:8080/",
          "height": 359
        },
        "id": "LIeUAreMbPpQ",
        "outputId": "61cd89fa-6759-43db-9c19-f0f853bacfc9"
      },
      "source": [
        "import pandas as pd\r\n",
        "cm = pd.read_csv('/content/drive/MyDrive/Classroom/みんなで学ぼう！Pythonによるデータサイエンス 第1期/第2回/customer_master.csv',index_col=0)\r\n",
        "cm.head(10)"
      ],
      "execution_count": null,
      "outputs": [
        {
          "output_type": "execute_result",
          "data": {
            "text/html": [
              "<div>\n",
              "<style scoped>\n",
              "    .dataframe tbody tr th:only-of-type {\n",
              "        vertical-align: middle;\n",
              "    }\n",
              "\n",
              "    .dataframe tbody tr th {\n",
              "        vertical-align: top;\n",
              "    }\n",
              "\n",
              "    .dataframe thead th {\n",
              "        text-align: right;\n",
              "    }\n",
              "</style>\n",
              "<table border=\"1\" class=\"dataframe\">\n",
              "  <thead>\n",
              "    <tr style=\"text-align: right;\">\n",
              "      <th></th>\n",
              "      <th>customer_id</th>\n",
              "      <th>customer_name</th>\n",
              "      <th>registration_date</th>\n",
              "      <th>customer_name_kana</th>\n",
              "      <th>email</th>\n",
              "      <th>gender</th>\n",
              "      <th>age</th>\n",
              "      <th>birthday</th>\n",
              "      <th>pref</th>\n",
              "    </tr>\n",
              "  </thead>\n",
              "  <tbody>\n",
              "    <tr>\n",
              "      <th>0</th>\n",
              "      <td>4f9527f1-808b-4e20-9b16-fa879994eda4</td>\n",
              "      <td>岩本和花菜</td>\n",
              "      <td>2020-10-01 01:41:30</td>\n",
              "      <td>イワモトワカナ</td>\n",
              "      <td>aiwamoto@cjrccemryq.jwcn.ufw</td>\n",
              "      <td>女</td>\n",
              "      <td>19</td>\n",
              "      <td>2001/05/14</td>\n",
              "      <td>大分県</td>\n",
              "    </tr>\n",
              "    <tr>\n",
              "      <th>1</th>\n",
              "      <td>fc03ba53-db78-42d4-9702-e2f2933e0b82</td>\n",
              "      <td>神崎松雄</td>\n",
              "      <td>2020-08-14 05:44:54</td>\n",
              "      <td>カンザキマツオ</td>\n",
              "      <td>matsuo1294@qgrw.hi.gl</td>\n",
              "      <td>男</td>\n",
              "      <td>48</td>\n",
              "      <td>1972/06/21</td>\n",
              "      <td>徳島県</td>\n",
              "    </tr>\n",
              "    <tr>\n",
              "      <th>2</th>\n",
              "      <td>4f47d60b-fd3b-4d6c-ae9a-cd303ead8045</td>\n",
              "      <td>土田忠正</td>\n",
              "      <td>2020-02-18 17:28:51</td>\n",
              "      <td>ツチダタダマサ</td>\n",
              "      <td>tadamasa15709@spofxog.fwp</td>\n",
              "      <td>男</td>\n",
              "      <td>68</td>\n",
              "      <td>1952/08/25</td>\n",
              "      <td>群馬県</td>\n",
              "    </tr>\n",
              "    <tr>\n",
              "      <th>3</th>\n",
              "      <td>ab5c2360-09f4-40e4-92cb-6f53636c9965</td>\n",
              "      <td>日高昭一</td>\n",
              "      <td>2020-12-16 06:06:39</td>\n",
              "      <td>ヒダカショウイチ</td>\n",
              "      <td>mvotpkimpshouichi8048@pydbmi.ub</td>\n",
              "      <td>男</td>\n",
              "      <td>30</td>\n",
              "      <td>1990/04/30</td>\n",
              "      <td>宮城県</td>\n",
              "    </tr>\n",
              "    <tr>\n",
              "      <th>4</th>\n",
              "      <td>8266396a-ae50-4f52-a3d8-df9a17add9f0</td>\n",
              "      <td>堀井善次郎</td>\n",
              "      <td>2020-02-05 11:30:32</td>\n",
              "      <td>ホリイゼンジロウ</td>\n",
              "      <td>zenjirouhorii@urdbeqrja.ur</td>\n",
              "      <td>男</td>\n",
              "      <td>60</td>\n",
              "      <td>1960/01/16</td>\n",
              "      <td>島根県</td>\n",
              "    </tr>\n",
              "    <tr>\n",
              "      <th>5</th>\n",
              "      <td>1e9a1cdf-e7a2-4ee3-92f8-3d917406ba3b</td>\n",
              "      <td>磯崎紗希</td>\n",
              "      <td>2020-04-02 09:58:41</td>\n",
              "      <td>イソザキサキ</td>\n",
              "      <td>Saki_Isozaki@xljfuhqxm.rz</td>\n",
              "      <td>女</td>\n",
              "      <td>40</td>\n",
              "      <td>1980/08/08</td>\n",
              "      <td>三重県</td>\n",
              "    </tr>\n",
              "    <tr>\n",
              "      <th>6</th>\n",
              "      <td>e6479719-b9ce-48e1-9e77-fefca390d514</td>\n",
              "      <td>西克洋</td>\n",
              "      <td>2020-07-24 17:22:01</td>\n",
              "      <td>ニシカツヒロ</td>\n",
              "      <td>gybph-hkatsuhiro61808@kdhgew.dsg</td>\n",
              "      <td>男</td>\n",
              "      <td>14</td>\n",
              "      <td>2006/08/27</td>\n",
              "      <td>熊本県</td>\n",
              "    </tr>\n",
              "    <tr>\n",
              "      <th>7</th>\n",
              "      <td>7bb05958-b05e-4729-b175-67d8e5bd3a00</td>\n",
              "      <td>栗本啓子</td>\n",
              "      <td>2020-01-06 03:40:54</td>\n",
              "      <td>クリモトケイコ</td>\n",
              "      <td>lgcvmggsoakeiko14210@nkewouzc.kl</td>\n",
              "      <td>女</td>\n",
              "      <td>74</td>\n",
              "      <td>1946/01/04</td>\n",
              "      <td>広島県</td>\n",
              "    </tr>\n",
              "    <tr>\n",
              "      <th>8</th>\n",
              "      <td>1480a7fb-7fb4-4238-a53b-d4f428a4acf1</td>\n",
              "      <td>山下徳三郎</td>\n",
              "      <td>2020-01-28 15:04:50</td>\n",
              "      <td>ヤマシタトクサブロウ</td>\n",
              "      <td>uyamashita@emndyqhx.vy</td>\n",
              "      <td>男</td>\n",
              "      <td>60</td>\n",
              "      <td>1960/02/15</td>\n",
              "      <td>新潟県</td>\n",
              "    </tr>\n",
              "    <tr>\n",
              "      <th>9</th>\n",
              "      <td>d022274b-ad84-4448-b6bc-b9e9444d6906</td>\n",
              "      <td>日下部由夫</td>\n",
              "      <td>2020-06-11 00:43:24</td>\n",
              "      <td>クサカベヨシオ</td>\n",
              "      <td>yoshio20207@czow.sr</td>\n",
              "      <td>男</td>\n",
              "      <td>38</td>\n",
              "      <td>1982/03/15</td>\n",
              "      <td>岐阜県</td>\n",
              "    </tr>\n",
              "  </tbody>\n",
              "</table>\n",
              "</div>"
            ],
            "text/plain": [
              "                            customer_id customer_name  ...    birthday pref\n",
              "0  4f9527f1-808b-4e20-9b16-fa879994eda4         岩本和花菜  ...  2001/05/14  大分県\n",
              "1  fc03ba53-db78-42d4-9702-e2f2933e0b82          神崎松雄  ...  1972/06/21  徳島県\n",
              "2  4f47d60b-fd3b-4d6c-ae9a-cd303ead8045          土田忠正  ...  1952/08/25  群馬県\n",
              "3  ab5c2360-09f4-40e4-92cb-6f53636c9965          日高昭一  ...  1990/04/30  宮城県\n",
              "4  8266396a-ae50-4f52-a3d8-df9a17add9f0         堀井善次郎  ...  1960/01/16  島根県\n",
              "5  1e9a1cdf-e7a2-4ee3-92f8-3d917406ba3b          磯崎紗希  ...  1980/08/08  三重県\n",
              "6  e6479719-b9ce-48e1-9e77-fefca390d514           西克洋  ...  2006/08/27  熊本県\n",
              "7  7bb05958-b05e-4729-b175-67d8e5bd3a00          栗本啓子  ...  1946/01/04  広島県\n",
              "8  1480a7fb-7fb4-4238-a53b-d4f428a4acf1         山下徳三郎  ...  1960/02/15  新潟県\n",
              "9  d022274b-ad84-4448-b6bc-b9e9444d6906         日下部由夫  ...  1982/03/15  岐阜県\n",
              "\n",
              "[10 rows x 9 columns]"
            ]
          },
          "metadata": {
            "tags": []
          },
          "execution_count": 101
        }
      ]
    },
    {
      "cell_type": "markdown",
      "metadata": {
        "id": "vRD_yfHqB3MJ"
      },
      "source": [
        "1行目は、pandasをpdと略して使用する宣言。pd.read_csvでcsvデータを読取り、一番先頭の行をインデックスとしている。"
      ]
    },
    {
      "cell_type": "markdown",
      "metadata": {
        "id": "U6g4eUIHfcCm"
      },
      "source": [
        "### 課題2\n",
        "\n",
        "残りのCSVファイルも同じようにざっと読み込んで見ましょう。\n",
        "\n",
        "最もレコード数（行数）の少ないファイル名はどれですか？"
      ]
    },
    {
      "cell_type": "code",
      "metadata": {
        "colab": {
          "base_uri": "https://localhost:8080/",
          "height": 173
        },
        "id": "hjnyGfHKcD4Z",
        "outputId": "fe88fed2-7a36-4d06-f040-8e8e76963edb"
      },
      "source": [
        "im = pd.read_csv('/content/drive/MyDrive/Classroom/みんなで学ぼう！Pythonによるデータサイエンス 第1期/第2回/item_master.csv',index_col=0)\r\n",
        "tm = pd.read_csv('/content/drive/MyDrive/Classroom/みんなで学ぼう！Pythonによるデータサイエンス 第1期/第2回/tem_master.csv',index_col=0)\r\n",
        "t1 = pd.read_csv('/content/drive/MyDrive/Classroom/みんなで学ぼう！Pythonによるデータサイエンス 第1期/第2回/transaction_1.csv',index_col=0)\r\n",
        "t2 = pd.read_csv('/content/drive/MyDrive/Classroom/みんなで学ぼう！Pythonによるデータサイエンス 第1期/第2回/transaction_2.csv',index_col=0)\r\n",
        "d1 = pd.read_csv('/content/drive/MyDrive/Classroom/みんなで学ぼう！Pythonによるデータサイエンス 第1期/第2回/transaction_detail_1.csv',index_col=0)\r\n",
        "d2 = pd.read_csv('/content/drive/MyDrive/Classroom/みんなで学ぼう！Pythonによるデータサイエンス 第1期/第2回/transaction_detail_2.csv',index_col=0)\r\n",
        "im.head(5)\r\n",
        "\r\n"
      ],
      "execution_count": null,
      "outputs": [
        {
          "output_type": "execute_result",
          "data": {
            "text/html": [
              "<div>\n",
              "<style scoped>\n",
              "    .dataframe tbody tr th:only-of-type {\n",
              "        vertical-align: middle;\n",
              "    }\n",
              "\n",
              "    .dataframe tbody tr th {\n",
              "        vertical-align: top;\n",
              "    }\n",
              "\n",
              "    .dataframe thead th {\n",
              "        text-align: right;\n",
              "    }\n",
              "</style>\n",
              "<table border=\"1\" class=\"dataframe\">\n",
              "  <thead>\n",
              "    <tr style=\"text-align: right;\">\n",
              "      <th></th>\n",
              "      <th>item_id</th>\n",
              "      <th>item_name</th>\n",
              "      <th>item_price</th>\n",
              "    </tr>\n",
              "  </thead>\n",
              "  <tbody>\n",
              "    <tr>\n",
              "      <th>0</th>\n",
              "      <td>K230</td>\n",
              "      <td>PC</td>\n",
              "      <td>94000</td>\n",
              "    </tr>\n",
              "    <tr>\n",
              "      <th>1</th>\n",
              "      <td>C323</td>\n",
              "      <td>Bag</td>\n",
              "      <td>34000</td>\n",
              "    </tr>\n",
              "    <tr>\n",
              "      <th>2</th>\n",
              "      <td>Y0563</td>\n",
              "      <td>Glass</td>\n",
              "      <td>12000</td>\n",
              "    </tr>\n",
              "    <tr>\n",
              "      <th>3</th>\n",
              "      <td>S470</td>\n",
              "      <td>Pen</td>\n",
              "      <td>4200</td>\n",
              "    </tr>\n",
              "  </tbody>\n",
              "</table>\n",
              "</div>"
            ],
            "text/plain": [
              "  item_id item_name  item_price\n",
              "0    K230        PC       94000\n",
              "1    C323       Bag       34000\n",
              "2   Y0563     Glass       12000\n",
              "3    S470       Pen        4200"
            ]
          },
          "metadata": {
            "tags": []
          },
          "execution_count": 102
        }
      ]
    },
    {
      "cell_type": "code",
      "metadata": {
        "colab": {
          "base_uri": "https://localhost:8080/",
          "height": 173
        },
        "id": "4Nqsub5whlA2",
        "outputId": "1701f8e9-0d7b-499e-99f5-e47c723110a2"
      },
      "source": [
        "tm.head(5)"
      ],
      "execution_count": null,
      "outputs": [
        {
          "output_type": "execute_result",
          "data": {
            "text/html": [
              "<div>\n",
              "<style scoped>\n",
              "    .dataframe tbody tr th:only-of-type {\n",
              "        vertical-align: middle;\n",
              "    }\n",
              "\n",
              "    .dataframe tbody tr th {\n",
              "        vertical-align: top;\n",
              "    }\n",
              "\n",
              "    .dataframe thead th {\n",
              "        text-align: right;\n",
              "    }\n",
              "</style>\n",
              "<table border=\"1\" class=\"dataframe\">\n",
              "  <thead>\n",
              "    <tr style=\"text-align: right;\">\n",
              "      <th></th>\n",
              "      <th>item_id</th>\n",
              "      <th>item_name</th>\n",
              "      <th>item_price</th>\n",
              "    </tr>\n",
              "  </thead>\n",
              "  <tbody>\n",
              "    <tr>\n",
              "      <th>0</th>\n",
              "      <td>K230</td>\n",
              "      <td>PC</td>\n",
              "      <td>94000</td>\n",
              "    </tr>\n",
              "    <tr>\n",
              "      <th>1</th>\n",
              "      <td>C323</td>\n",
              "      <td>Bag</td>\n",
              "      <td>34000</td>\n",
              "    </tr>\n",
              "    <tr>\n",
              "      <th>2</th>\n",
              "      <td>Y0563</td>\n",
              "      <td>Glass</td>\n",
              "      <td>12000</td>\n",
              "    </tr>\n",
              "    <tr>\n",
              "      <th>3</th>\n",
              "      <td>S470</td>\n",
              "      <td>Pen</td>\n",
              "      <td>4200</td>\n",
              "    </tr>\n",
              "  </tbody>\n",
              "</table>\n",
              "</div>"
            ],
            "text/plain": [
              "  item_id item_name  item_price\n",
              "0    K230        PC       94000\n",
              "1    C323       Bag       34000\n",
              "2   Y0563     Glass       12000\n",
              "3    S470       Pen        4200"
            ]
          },
          "metadata": {
            "tags": []
          },
          "execution_count": 103
        }
      ]
    },
    {
      "cell_type": "code",
      "metadata": {
        "colab": {
          "base_uri": "https://localhost:8080/",
          "height": 204
        },
        "id": "9huzYjGAhn8Q",
        "outputId": "de2ab109-0dc6-445b-ce79-15fdc485035d"
      },
      "source": [
        "t1.head(5)"
      ],
      "execution_count": null,
      "outputs": [
        {
          "output_type": "execute_result",
          "data": {
            "text/html": [
              "<div>\n",
              "<style scoped>\n",
              "    .dataframe tbody tr th:only-of-type {\n",
              "        vertical-align: middle;\n",
              "    }\n",
              "\n",
              "    .dataframe tbody tr th {\n",
              "        vertical-align: top;\n",
              "    }\n",
              "\n",
              "    .dataframe thead th {\n",
              "        text-align: right;\n",
              "    }\n",
              "</style>\n",
              "<table border=\"1\" class=\"dataframe\">\n",
              "  <thead>\n",
              "    <tr style=\"text-align: right;\">\n",
              "      <th></th>\n",
              "      <th>transaction_id</th>\n",
              "      <th>price</th>\n",
              "      <th>payment_date</th>\n",
              "      <th>customer_id</th>\n",
              "    </tr>\n",
              "  </thead>\n",
              "  <tbody>\n",
              "    <tr>\n",
              "      <th>0</th>\n",
              "      <td>T00056906</td>\n",
              "      <td>12000</td>\n",
              "      <td>2020-05-14 17:36:01</td>\n",
              "      <td>f0b61a02-7626-4785-b511-8ebdb864688c</td>\n",
              "    </tr>\n",
              "    <tr>\n",
              "      <th>1</th>\n",
              "      <td>T00091208</td>\n",
              "      <td>4200</td>\n",
              "      <td>2020-10-10 00:33:24</td>\n",
              "      <td>1a75bb90-d705-4418-bd2a-7d8182c92c45</td>\n",
              "    </tr>\n",
              "    <tr>\n",
              "      <th>2</th>\n",
              "      <td>T00083450</td>\n",
              "      <td>94000</td>\n",
              "      <td>2020-04-13 22:35:24</td>\n",
              "      <td>daad2d22-ddc2-487e-813e-3a5f22c8fad0</td>\n",
              "    </tr>\n",
              "    <tr>\n",
              "      <th>3</th>\n",
              "      <td>T00020537</td>\n",
              "      <td>34000</td>\n",
              "      <td>2020-06-25 06:11:04</td>\n",
              "      <td>c3f04fa7-8940-4009-9e5e-66958cf6769b</td>\n",
              "    </tr>\n",
              "    <tr>\n",
              "      <th>4</th>\n",
              "      <td>T00099676</td>\n",
              "      <td>24000</td>\n",
              "      <td>2020-10-01 19:21:03</td>\n",
              "      <td>4d17bfb7-3599-42fd-be7b-99ad4bbaa2fe</td>\n",
              "    </tr>\n",
              "  </tbody>\n",
              "</table>\n",
              "</div>"
            ],
            "text/plain": [
              "  transaction_id  ...                           customer_id\n",
              "0      T00056906  ...  f0b61a02-7626-4785-b511-8ebdb864688c\n",
              "1      T00091208  ...  1a75bb90-d705-4418-bd2a-7d8182c92c45\n",
              "2      T00083450  ...  daad2d22-ddc2-487e-813e-3a5f22c8fad0\n",
              "3      T00020537  ...  c3f04fa7-8940-4009-9e5e-66958cf6769b\n",
              "4      T00099676  ...  4d17bfb7-3599-42fd-be7b-99ad4bbaa2fe\n",
              "\n",
              "[5 rows x 4 columns]"
            ]
          },
          "metadata": {
            "tags": []
          },
          "execution_count": 104
        }
      ]
    },
    {
      "cell_type": "code",
      "metadata": {
        "colab": {
          "base_uri": "https://localhost:8080/",
          "height": 204
        },
        "id": "zDRu0LqwhrE-",
        "outputId": "4c8e4cba-7cad-427e-b134-95117ff4d7ee"
      },
      "source": [
        "t2.head(5)"
      ],
      "execution_count": null,
      "outputs": [
        {
          "output_type": "execute_result",
          "data": {
            "text/html": [
              "<div>\n",
              "<style scoped>\n",
              "    .dataframe tbody tr th:only-of-type {\n",
              "        vertical-align: middle;\n",
              "    }\n",
              "\n",
              "    .dataframe tbody tr th {\n",
              "        vertical-align: top;\n",
              "    }\n",
              "\n",
              "    .dataframe thead th {\n",
              "        text-align: right;\n",
              "    }\n",
              "</style>\n",
              "<table border=\"1\" class=\"dataframe\">\n",
              "  <thead>\n",
              "    <tr style=\"text-align: right;\">\n",
              "      <th></th>\n",
              "      <th>transaction_id</th>\n",
              "      <th>price</th>\n",
              "      <th>payment_date</th>\n",
              "      <th>customer_id</th>\n",
              "    </tr>\n",
              "  </thead>\n",
              "  <tbody>\n",
              "    <tr>\n",
              "      <th>5000</th>\n",
              "      <td>T00087011</td>\n",
              "      <td>282000</td>\n",
              "      <td>2020-04-23 07:42:42</td>\n",
              "      <td>81d9d83b-90ca-4900-8abb-02b49a37356e</td>\n",
              "    </tr>\n",
              "    <tr>\n",
              "      <th>5001</th>\n",
              "      <td>T00034782</td>\n",
              "      <td>188000</td>\n",
              "      <td>2020-06-02 10:55:11</td>\n",
              "      <td>1cedb4b6-8d9f-42b5-bca6-49483b5a7b55</td>\n",
              "    </tr>\n",
              "    <tr>\n",
              "      <th>5002</th>\n",
              "      <td>T00023562</td>\n",
              "      <td>24000</td>\n",
              "      <td>2020-07-23 09:25:13</td>\n",
              "      <td>21495630-7e45-4298-84ff-f0d694bee74a</td>\n",
              "    </tr>\n",
              "    <tr>\n",
              "      <th>5003</th>\n",
              "      <td>T00023891</td>\n",
              "      <td>4200</td>\n",
              "      <td>2020-05-04 02:26:06</td>\n",
              "      <td>4fb4d576-84b7-4ff7-a6fc-c20a26ffeeba</td>\n",
              "    </tr>\n",
              "    <tr>\n",
              "      <th>5004</th>\n",
              "      <td>T00033570</td>\n",
              "      <td>8400</td>\n",
              "      <td>2020-03-28 23:16:22</td>\n",
              "      <td>5eb4d0f8-2b92-4ebf-ade6-dfd52d0011ac</td>\n",
              "    </tr>\n",
              "  </tbody>\n",
              "</table>\n",
              "</div>"
            ],
            "text/plain": [
              "     transaction_id  ...                           customer_id\n",
              "5000      T00087011  ...  81d9d83b-90ca-4900-8abb-02b49a37356e\n",
              "5001      T00034782  ...  1cedb4b6-8d9f-42b5-bca6-49483b5a7b55\n",
              "5002      T00023562  ...  21495630-7e45-4298-84ff-f0d694bee74a\n",
              "5003      T00023891  ...  4fb4d576-84b7-4ff7-a6fc-c20a26ffeeba\n",
              "5004      T00033570  ...  5eb4d0f8-2b92-4ebf-ade6-dfd52d0011ac\n",
              "\n",
              "[5 rows x 4 columns]"
            ]
          },
          "metadata": {
            "tags": []
          },
          "execution_count": 106
        }
      ]
    },
    {
      "cell_type": "code",
      "metadata": {
        "colab": {
          "base_uri": "https://localhost:8080/",
          "height": 204
        },
        "id": "jEYidiMyhss5",
        "outputId": "85f11bbf-2502-4fab-8d10-9631833fdd18"
      },
      "source": [
        "d1.head(5)"
      ],
      "execution_count": null,
      "outputs": [
        {
          "output_type": "execute_result",
          "data": {
            "text/html": [
              "<div>\n",
              "<style scoped>\n",
              "    .dataframe tbody tr th:only-of-type {\n",
              "        vertical-align: middle;\n",
              "    }\n",
              "\n",
              "    .dataframe tbody tr th {\n",
              "        vertical-align: top;\n",
              "    }\n",
              "\n",
              "    .dataframe thead th {\n",
              "        text-align: right;\n",
              "    }\n",
              "</style>\n",
              "<table border=\"1\" class=\"dataframe\">\n",
              "  <thead>\n",
              "    <tr style=\"text-align: right;\">\n",
              "      <th></th>\n",
              "      <th>transaction_id</th>\n",
              "      <th>item_id</th>\n",
              "      <th>quantity</th>\n",
              "    </tr>\n",
              "  </thead>\n",
              "  <tbody>\n",
              "    <tr>\n",
              "      <th>0</th>\n",
              "      <td>T00056906</td>\n",
              "      <td>Y0563</td>\n",
              "      <td>1</td>\n",
              "    </tr>\n",
              "    <tr>\n",
              "      <th>1</th>\n",
              "      <td>T00091208</td>\n",
              "      <td>S470</td>\n",
              "      <td>1</td>\n",
              "    </tr>\n",
              "    <tr>\n",
              "      <th>2</th>\n",
              "      <td>T00083450</td>\n",
              "      <td>K230</td>\n",
              "      <td>1</td>\n",
              "    </tr>\n",
              "    <tr>\n",
              "      <th>3</th>\n",
              "      <td>T00020537</td>\n",
              "      <td>C323</td>\n",
              "      <td>1</td>\n",
              "    </tr>\n",
              "    <tr>\n",
              "      <th>4</th>\n",
              "      <td>T00099676</td>\n",
              "      <td>Y0563</td>\n",
              "      <td>2</td>\n",
              "    </tr>\n",
              "  </tbody>\n",
              "</table>\n",
              "</div>"
            ],
            "text/plain": [
              "  transaction_id item_id  quantity\n",
              "0      T00056906   Y0563         1\n",
              "1      T00091208    S470         1\n",
              "2      T00083450    K230         1\n",
              "3      T00020537    C323         1\n",
              "4      T00099676   Y0563         2"
            ]
          },
          "metadata": {
            "tags": []
          },
          "execution_count": 109
        }
      ]
    },
    {
      "cell_type": "code",
      "metadata": {
        "colab": {
          "base_uri": "https://localhost:8080/",
          "height": 204
        },
        "id": "jmUigsFChus-",
        "outputId": "3599737e-40c6-4fc9-f78b-0292e1ab3f92"
      },
      "source": [
        "d2.head(5)"
      ],
      "execution_count": null,
      "outputs": [
        {
          "output_type": "execute_result",
          "data": {
            "text/html": [
              "<div>\n",
              "<style scoped>\n",
              "    .dataframe tbody tr th:only-of-type {\n",
              "        vertical-align: middle;\n",
              "    }\n",
              "\n",
              "    .dataframe tbody tr th {\n",
              "        vertical-align: top;\n",
              "    }\n",
              "\n",
              "    .dataframe thead th {\n",
              "        text-align: right;\n",
              "    }\n",
              "</style>\n",
              "<table border=\"1\" class=\"dataframe\">\n",
              "  <thead>\n",
              "    <tr style=\"text-align: right;\">\n",
              "      <th></th>\n",
              "      <th>transaction_id</th>\n",
              "      <th>item_id</th>\n",
              "      <th>quantity</th>\n",
              "    </tr>\n",
              "  </thead>\n",
              "  <tbody>\n",
              "    <tr>\n",
              "      <th>5000</th>\n",
              "      <td>T00087011</td>\n",
              "      <td>K230</td>\n",
              "      <td>3</td>\n",
              "    </tr>\n",
              "    <tr>\n",
              "      <th>5001</th>\n",
              "      <td>T00034782</td>\n",
              "      <td>K230</td>\n",
              "      <td>2</td>\n",
              "    </tr>\n",
              "    <tr>\n",
              "      <th>5002</th>\n",
              "      <td>T00023562</td>\n",
              "      <td>Y0563</td>\n",
              "      <td>2</td>\n",
              "    </tr>\n",
              "    <tr>\n",
              "      <th>5003</th>\n",
              "      <td>T00023891</td>\n",
              "      <td>S470</td>\n",
              "      <td>1</td>\n",
              "    </tr>\n",
              "    <tr>\n",
              "      <th>5004</th>\n",
              "      <td>T00033570</td>\n",
              "      <td>S470</td>\n",
              "      <td>2</td>\n",
              "    </tr>\n",
              "  </tbody>\n",
              "</table>\n",
              "</div>"
            ],
            "text/plain": [
              "     transaction_id item_id  quantity\n",
              "5000      T00087011    K230         3\n",
              "5001      T00034782    K230         2\n",
              "5002      T00023562   Y0563         2\n",
              "5003      T00023891    S470         1\n",
              "5004      T00033570    S470         2"
            ]
          },
          "metadata": {
            "tags": []
          },
          "execution_count": 110
        }
      ]
    },
    {
      "cell_type": "markdown",
      "metadata": {
        "id": "sgjlmakugaWR"
      },
      "source": [
        "### 課題3\n",
        "\n",
        "CSVファイルを見て、これらが何のデータを表しているか理解できましたか？"
      ]
    },
    {
      "cell_type": "markdown",
      "metadata": {
        "id": "wqDyIPMrhpUT"
      },
      "source": [
        "## 【2】 データフレームの結合\n",
        "\n",
        "transaction_1.csvとtransaction_2.csvは、同じデータ構造をしています。transaction_detail_1.csvとtransaction_detail_2.csvも同様です。\n",
        "\n",
        "2つずつデータフレームがあると集計しにくいので、それぞれ1つにまとめましょう。"
      ]
    },
    {
      "cell_type": "markdown",
      "metadata": {
        "id": "zGg4Xin4iI1l"
      },
      "source": [
        "### 課題4\n",
        "\n",
        "それぞれのデータフレームを結合してください。\n",
        "\n",
        "データフレームの行方向（縦方向）の結合は`pd.concat()`で行います（`concat()`のデフォルトが行方向の結合というだけで、`axis`オプションで列方向（横方向）の結合も可能です）。\n",
        "\n",
        "なおSQLでは、行方向の結合をユニオンといいます。"
      ]
    },
    {
      "cell_type": "code",
      "metadata": {
        "colab": {
          "base_uri": "https://localhost:8080/",
          "height": 238
        },
        "id": "XFvSaupUdZLx",
        "outputId": "0cfb372f-b9c9-42e7-db40-e4d366110514"
      },
      "source": [
        "t12 = pd.concat([t1,t2],ignore_index=True)\r\n",
        "\r\n",
        "td = pd.concat([d1,d2],ignore_index=True)\r\n",
        "\r\n",
        "print(len(t1))\r\n",
        "print(len(t12))\r\n",
        "\r\n",
        "t12.head(5)"
      ],
      "execution_count": null,
      "outputs": [
        {
          "output_type": "stream",
          "text": [
            "5000\n",
            "10000\n"
          ],
          "name": "stdout"
        },
        {
          "output_type": "execute_result",
          "data": {
            "text/html": [
              "<div>\n",
              "<style scoped>\n",
              "    .dataframe tbody tr th:only-of-type {\n",
              "        vertical-align: middle;\n",
              "    }\n",
              "\n",
              "    .dataframe tbody tr th {\n",
              "        vertical-align: top;\n",
              "    }\n",
              "\n",
              "    .dataframe thead th {\n",
              "        text-align: right;\n",
              "    }\n",
              "</style>\n",
              "<table border=\"1\" class=\"dataframe\">\n",
              "  <thead>\n",
              "    <tr style=\"text-align: right;\">\n",
              "      <th></th>\n",
              "      <th>transaction_id</th>\n",
              "      <th>price</th>\n",
              "      <th>payment_date</th>\n",
              "      <th>customer_id</th>\n",
              "    </tr>\n",
              "  </thead>\n",
              "  <tbody>\n",
              "    <tr>\n",
              "      <th>0</th>\n",
              "      <td>T00056906</td>\n",
              "      <td>12000</td>\n",
              "      <td>2020-05-14 17:36:01</td>\n",
              "      <td>f0b61a02-7626-4785-b511-8ebdb864688c</td>\n",
              "    </tr>\n",
              "    <tr>\n",
              "      <th>1</th>\n",
              "      <td>T00091208</td>\n",
              "      <td>4200</td>\n",
              "      <td>2020-10-10 00:33:24</td>\n",
              "      <td>1a75bb90-d705-4418-bd2a-7d8182c92c45</td>\n",
              "    </tr>\n",
              "    <tr>\n",
              "      <th>2</th>\n",
              "      <td>T00083450</td>\n",
              "      <td>94000</td>\n",
              "      <td>2020-04-13 22:35:24</td>\n",
              "      <td>daad2d22-ddc2-487e-813e-3a5f22c8fad0</td>\n",
              "    </tr>\n",
              "    <tr>\n",
              "      <th>3</th>\n",
              "      <td>T00020537</td>\n",
              "      <td>34000</td>\n",
              "      <td>2020-06-25 06:11:04</td>\n",
              "      <td>c3f04fa7-8940-4009-9e5e-66958cf6769b</td>\n",
              "    </tr>\n",
              "    <tr>\n",
              "      <th>4</th>\n",
              "      <td>T00099676</td>\n",
              "      <td>24000</td>\n",
              "      <td>2020-10-01 19:21:03</td>\n",
              "      <td>4d17bfb7-3599-42fd-be7b-99ad4bbaa2fe</td>\n",
              "    </tr>\n",
              "  </tbody>\n",
              "</table>\n",
              "</div>"
            ],
            "text/plain": [
              "  transaction_id  ...                           customer_id\n",
              "0      T00056906  ...  f0b61a02-7626-4785-b511-8ebdb864688c\n",
              "1      T00091208  ...  1a75bb90-d705-4418-bd2a-7d8182c92c45\n",
              "2      T00083450  ...  daad2d22-ddc2-487e-813e-3a5f22c8fad0\n",
              "3      T00020537  ...  c3f04fa7-8940-4009-9e5e-66958cf6769b\n",
              "4      T00099676  ...  4d17bfb7-3599-42fd-be7b-99ad4bbaa2fe\n",
              "\n",
              "[5 rows x 4 columns]"
            ]
          },
          "metadata": {
            "tags": []
          },
          "execution_count": 113
        }
      ]
    },
    {
      "cell_type": "code",
      "metadata": {
        "colab": {
          "base_uri": "https://localhost:8080/",
          "height": 238
        },
        "id": "mj2kEOp5dZDk",
        "outputId": "54717649-f987-4999-d95d-ac32882e9b23"
      },
      "source": [
        "print(len(d1))\r\n",
        "print(len(td))\r\n",
        "\r\n",
        "td.head(5)"
      ],
      "execution_count": null,
      "outputs": [
        {
          "output_type": "stream",
          "text": [
            "5000\n",
            "10000\n"
          ],
          "name": "stdout"
        },
        {
          "output_type": "execute_result",
          "data": {
            "text/html": [
              "<div>\n",
              "<style scoped>\n",
              "    .dataframe tbody tr th:only-of-type {\n",
              "        vertical-align: middle;\n",
              "    }\n",
              "\n",
              "    .dataframe tbody tr th {\n",
              "        vertical-align: top;\n",
              "    }\n",
              "\n",
              "    .dataframe thead th {\n",
              "        text-align: right;\n",
              "    }\n",
              "</style>\n",
              "<table border=\"1\" class=\"dataframe\">\n",
              "  <thead>\n",
              "    <tr style=\"text-align: right;\">\n",
              "      <th></th>\n",
              "      <th>transaction_id</th>\n",
              "      <th>item_id</th>\n",
              "      <th>quantity</th>\n",
              "    </tr>\n",
              "  </thead>\n",
              "  <tbody>\n",
              "    <tr>\n",
              "      <th>0</th>\n",
              "      <td>T00056906</td>\n",
              "      <td>Y0563</td>\n",
              "      <td>1</td>\n",
              "    </tr>\n",
              "    <tr>\n",
              "      <th>1</th>\n",
              "      <td>T00091208</td>\n",
              "      <td>S470</td>\n",
              "      <td>1</td>\n",
              "    </tr>\n",
              "    <tr>\n",
              "      <th>2</th>\n",
              "      <td>T00083450</td>\n",
              "      <td>K230</td>\n",
              "      <td>1</td>\n",
              "    </tr>\n",
              "    <tr>\n",
              "      <th>3</th>\n",
              "      <td>T00020537</td>\n",
              "      <td>C323</td>\n",
              "      <td>1</td>\n",
              "    </tr>\n",
              "    <tr>\n",
              "      <th>4</th>\n",
              "      <td>T00099676</td>\n",
              "      <td>Y0563</td>\n",
              "      <td>2</td>\n",
              "    </tr>\n",
              "  </tbody>\n",
              "</table>\n",
              "</div>"
            ],
            "text/plain": [
              "  transaction_id item_id  quantity\n",
              "0      T00056906   Y0563         1\n",
              "1      T00091208    S470         1\n",
              "2      T00083450    K230         1\n",
              "3      T00020537    C323         1\n",
              "4      T00099676   Y0563         2"
            ]
          },
          "metadata": {
            "tags": []
          },
          "execution_count": 112
        }
      ]
    },
    {
      "cell_type": "markdown",
      "metadata": {
        "id": "ZiuDJp4ni_ZM"
      },
      "source": [
        "## 【3】 データフレームのマージ\n",
        "\n",
        "複数のデータフレームに共通の列があるとき、それらを複合して1つのデータフレームにすることで、集計しやすくなります。"
      ]
    },
    {
      "cell_type": "markdown",
      "metadata": {
        "id": "rG2KuNzjjXOw"
      },
      "source": [
        "### 課題5\n",
        "\n",
        "課題4で結合した2つのデータフレームをマージして1つのデータフレームにしてください。なお共通する列（キー）は'transaction_id'です。\n",
        "\n",
        "`pd.merge()`を使いましょう。\n",
        "\n",
        "SQLではジョインといいます。"
      ]
    },
    {
      "cell_type": "code",
      "metadata": {
        "colab": {
          "base_uri": "https://localhost:8080/",
          "height": 204
        },
        "id": "xJPfv5aCe4Zf",
        "outputId": "5e81a27e-dca0-46d1-836c-840dc042ec3b"
      },
      "source": [
        "data1 = pd.merge(t12,td,on='transaction_id')\r\n",
        "data1.head(5)"
      ],
      "execution_count": null,
      "outputs": [
        {
          "output_type": "execute_result",
          "data": {
            "text/html": [
              "<div>\n",
              "<style scoped>\n",
              "    .dataframe tbody tr th:only-of-type {\n",
              "        vertical-align: middle;\n",
              "    }\n",
              "\n",
              "    .dataframe tbody tr th {\n",
              "        vertical-align: top;\n",
              "    }\n",
              "\n",
              "    .dataframe thead th {\n",
              "        text-align: right;\n",
              "    }\n",
              "</style>\n",
              "<table border=\"1\" class=\"dataframe\">\n",
              "  <thead>\n",
              "    <tr style=\"text-align: right;\">\n",
              "      <th></th>\n",
              "      <th>transaction_id</th>\n",
              "      <th>price</th>\n",
              "      <th>payment_date</th>\n",
              "      <th>customer_id</th>\n",
              "      <th>item_id</th>\n",
              "      <th>quantity</th>\n",
              "    </tr>\n",
              "  </thead>\n",
              "  <tbody>\n",
              "    <tr>\n",
              "      <th>0</th>\n",
              "      <td>T00056906</td>\n",
              "      <td>12000</td>\n",
              "      <td>2020-05-14 17:36:01</td>\n",
              "      <td>f0b61a02-7626-4785-b511-8ebdb864688c</td>\n",
              "      <td>Y0563</td>\n",
              "      <td>1</td>\n",
              "    </tr>\n",
              "    <tr>\n",
              "      <th>1</th>\n",
              "      <td>T00091208</td>\n",
              "      <td>4200</td>\n",
              "      <td>2020-10-10 00:33:24</td>\n",
              "      <td>1a75bb90-d705-4418-bd2a-7d8182c92c45</td>\n",
              "      <td>S470</td>\n",
              "      <td>1</td>\n",
              "    </tr>\n",
              "    <tr>\n",
              "      <th>2</th>\n",
              "      <td>T00083450</td>\n",
              "      <td>94000</td>\n",
              "      <td>2020-04-13 22:35:24</td>\n",
              "      <td>daad2d22-ddc2-487e-813e-3a5f22c8fad0</td>\n",
              "      <td>K230</td>\n",
              "      <td>1</td>\n",
              "    </tr>\n",
              "    <tr>\n",
              "      <th>3</th>\n",
              "      <td>T00020537</td>\n",
              "      <td>34000</td>\n",
              "      <td>2020-06-25 06:11:04</td>\n",
              "      <td>c3f04fa7-8940-4009-9e5e-66958cf6769b</td>\n",
              "      <td>C323</td>\n",
              "      <td>1</td>\n",
              "    </tr>\n",
              "    <tr>\n",
              "      <th>4</th>\n",
              "      <td>T00099676</td>\n",
              "      <td>24000</td>\n",
              "      <td>2020-10-01 19:21:03</td>\n",
              "      <td>4d17bfb7-3599-42fd-be7b-99ad4bbaa2fe</td>\n",
              "      <td>Y0563</td>\n",
              "      <td>2</td>\n",
              "    </tr>\n",
              "  </tbody>\n",
              "</table>\n",
              "</div>"
            ],
            "text/plain": [
              "  transaction_id  price  ... item_id quantity\n",
              "0      T00056906  12000  ...   Y0563        1\n",
              "1      T00091208   4200  ...    S470        1\n",
              "2      T00083450  94000  ...    K230        1\n",
              "3      T00020537  34000  ...    C323        1\n",
              "4      T00099676  24000  ...   Y0563        2\n",
              "\n",
              "[5 rows x 6 columns]"
            ]
          },
          "metadata": {
            "tags": []
          },
          "execution_count": 66
        }
      ]
    },
    {
      "cell_type": "markdown",
      "metadata": {
        "id": "IxKisdOTndpo"
      },
      "source": [
        "### 課題6\n",
        "\n",
        "マージ後のデータフレームの列数はいくつですか？"
      ]
    },
    {
      "cell_type": "code",
      "metadata": {
        "colab": {
          "base_uri": "https://localhost:8080/"
        },
        "id": "3QOcZzX7h_WD",
        "outputId": "94cc8505-4702-4376-8908-1d0110c3afba"
      },
      "source": [
        "print(len(data1))"
      ],
      "execution_count": null,
      "outputs": [
        {
          "output_type": "stream",
          "text": [
            "10000\n"
          ],
          "name": "stdout"
        }
      ]
    },
    {
      "cell_type": "markdown",
      "metadata": {
        "id": "W3MkyNTFpbNf"
      },
      "source": [
        "### 課題7\n",
        "\n",
        "現段階で、データフレームは3つになったはずです（customer_master, item_master, 上記でマージしたもの）。\n",
        "\n",
        "この3つをさらにマージして1つにしましょう。同じように`pd.merge()`で行います。"
      ]
    },
    {
      "cell_type": "code",
      "metadata": {
        "id": "6nulREQ7iF-a"
      },
      "source": [
        "data2 = pd.merge(data1,cm,on='customer_id')\r\n",
        "data2.head(5)"
      ],
      "execution_count": null,
      "outputs": []
    },
    {
      "cell_type": "code",
      "metadata": {
        "id": "M9JmBJloi5YF"
      },
      "source": [
        "dall = pd.merge(data2,im,on='item_id')\r\n",
        "dall.head(5)"
      ],
      "execution_count": null,
      "outputs": []
    },
    {
      "cell_type": "markdown",
      "metadata": {
        "id": "2DyEbjfnpRJE"
      },
      "source": [
        "## 【5】 基本統計量の把握\n",
        "\n",
        "平均値、最頻値、中央値、標準偏差などの統計量を基本統計量と言います。\n",
        "\n",
        "Pandasではこれらをすぐに知ることができます。\n",
        "\n",
        "`df.describe()`を使いましょう。"
      ]
    },
    {
      "cell_type": "markdown",
      "metadata": {
        "id": "MqS6FO94sEof"
      },
      "source": [
        "### 課題8\n",
        "\n",
        "1つにまとめたデータフレーム中には欠損値が含まれているでしょうか？\n",
        "\n",
        "`df.isnull().sum()`で確認してみましょう。"
      ]
    },
    {
      "cell_type": "code",
      "metadata": {
        "colab": {
          "base_uri": "https://localhost:8080/"
        },
        "id": "MKP1u986jgzm",
        "outputId": "f2db69bd-19f3-4c65-912a-9d6b5efa508a"
      },
      "source": [
        "print(dall.isnull().sum())"
      ],
      "execution_count": null,
      "outputs": [
        {
          "output_type": "stream",
          "text": [
            "transaction_id        0\n",
            "price                 0\n",
            "payment_date          0\n",
            "customer_id           0\n",
            "item_id               0\n",
            "quantity              0\n",
            "customer_name         0\n",
            "registration_date     0\n",
            "customer_name_kana    0\n",
            "email                 0\n",
            "gender                0\n",
            "age                   0\n",
            "birthday              0\n",
            "pref                  0\n",
            "item_name             0\n",
            "item_price            0\n",
            "dtype: int64\n"
          ],
          "name": "stdout"
        }
      ]
    },
    {
      "cell_type": "code",
      "metadata": {
        "colab": {
          "base_uri": "https://localhost:8080/"
        },
        "id": "ga1WjZ8vrE5b",
        "outputId": "d51ce1ac-acf5-4170-cfbb-b9e5285ae8cd"
      },
      "source": [
        "dall.isnull().sum()"
      ],
      "execution_count": null,
      "outputs": [
        {
          "output_type": "execute_result",
          "data": {
            "text/plain": [
              "transaction_id        0\n",
              "price                 0\n",
              "payment_date          0\n",
              "customer_id           0\n",
              "item_id               0\n",
              "quantity              0\n",
              "customer_name         0\n",
              "registration_date     0\n",
              "customer_name_kana    0\n",
              "email                 0\n",
              "gender                0\n",
              "age                   0\n",
              "birthday              0\n",
              "pref                  0\n",
              "item_name             0\n",
              "item_price            0\n",
              "dtype: int64"
            ]
          },
          "metadata": {
            "tags": []
          },
          "execution_count": 69
        }
      ]
    },
    {
      "cell_type": "markdown",
      "metadata": {
        "id": "Tz_fq4stsdkl"
      },
      "source": [
        "### 課題9\n",
        "\n",
        "欠損値を確認したら、`pd.describe()`で基本統計量を確認しましょう。"
      ]
    },
    {
      "cell_type": "code",
      "metadata": {
        "colab": {
          "base_uri": "https://localhost:8080/"
        },
        "id": "Jx0rcgb1kLs5",
        "outputId": "52b08d63-a1fb-470b-ebb6-f9fa73447f89"
      },
      "source": [
        "print(dall.describe())"
      ],
      "execution_count": null,
      "outputs": [
        {
          "output_type": "stream",
          "text": [
            "               price      quantity           age    item_price\n",
            "count   10000.000000  10000.000000  10000.000000  10000.000000\n",
            "mean    71409.440000      2.007900     49.426000  35630.600000\n",
            "std     81674.650962      0.817009     22.979176  35196.925803\n",
            "min      4200.000000      1.000000     10.000000   4200.000000\n",
            "25%     12000.000000      1.000000     30.000000   4200.000000\n",
            "50%     34000.000000      2.000000     49.000000  12000.000000\n",
            "75%     94000.000000      3.000000     69.000000  34000.000000\n",
            "max    282000.000000      3.000000     89.000000  94000.000000\n"
          ],
          "name": "stdout"
        }
      ]
    },
    {
      "cell_type": "code",
      "metadata": {
        "colab": {
          "base_uri": "https://localhost:8080/",
          "height": 297
        },
        "id": "w4DAg93vq9W8",
        "outputId": "f76f4ff7-fe15-4d62-eaf2-ef1e51be0d4c"
      },
      "source": [
        "dall.describe()"
      ],
      "execution_count": null,
      "outputs": [
        {
          "output_type": "execute_result",
          "data": {
            "text/html": [
              "<div>\n",
              "<style scoped>\n",
              "    .dataframe tbody tr th:only-of-type {\n",
              "        vertical-align: middle;\n",
              "    }\n",
              "\n",
              "    .dataframe tbody tr th {\n",
              "        vertical-align: top;\n",
              "    }\n",
              "\n",
              "    .dataframe thead th {\n",
              "        text-align: right;\n",
              "    }\n",
              "</style>\n",
              "<table border=\"1\" class=\"dataframe\">\n",
              "  <thead>\n",
              "    <tr style=\"text-align: right;\">\n",
              "      <th></th>\n",
              "      <th>price</th>\n",
              "      <th>quantity</th>\n",
              "      <th>age</th>\n",
              "      <th>item_price</th>\n",
              "    </tr>\n",
              "  </thead>\n",
              "  <tbody>\n",
              "    <tr>\n",
              "      <th>count</th>\n",
              "      <td>10000.000000</td>\n",
              "      <td>10000.000000</td>\n",
              "      <td>10000.000000</td>\n",
              "      <td>10000.000000</td>\n",
              "    </tr>\n",
              "    <tr>\n",
              "      <th>mean</th>\n",
              "      <td>71409.440000</td>\n",
              "      <td>2.007900</td>\n",
              "      <td>49.426000</td>\n",
              "      <td>35630.600000</td>\n",
              "    </tr>\n",
              "    <tr>\n",
              "      <th>std</th>\n",
              "      <td>81674.650962</td>\n",
              "      <td>0.817009</td>\n",
              "      <td>22.979176</td>\n",
              "      <td>35196.925803</td>\n",
              "    </tr>\n",
              "    <tr>\n",
              "      <th>min</th>\n",
              "      <td>4200.000000</td>\n",
              "      <td>1.000000</td>\n",
              "      <td>10.000000</td>\n",
              "      <td>4200.000000</td>\n",
              "    </tr>\n",
              "    <tr>\n",
              "      <th>25%</th>\n",
              "      <td>12000.000000</td>\n",
              "      <td>1.000000</td>\n",
              "      <td>30.000000</td>\n",
              "      <td>4200.000000</td>\n",
              "    </tr>\n",
              "    <tr>\n",
              "      <th>50%</th>\n",
              "      <td>34000.000000</td>\n",
              "      <td>2.000000</td>\n",
              "      <td>49.000000</td>\n",
              "      <td>12000.000000</td>\n",
              "    </tr>\n",
              "    <tr>\n",
              "      <th>75%</th>\n",
              "      <td>94000.000000</td>\n",
              "      <td>3.000000</td>\n",
              "      <td>69.000000</td>\n",
              "      <td>34000.000000</td>\n",
              "    </tr>\n",
              "    <tr>\n",
              "      <th>max</th>\n",
              "      <td>282000.000000</td>\n",
              "      <td>3.000000</td>\n",
              "      <td>89.000000</td>\n",
              "      <td>94000.000000</td>\n",
              "    </tr>\n",
              "  </tbody>\n",
              "</table>\n",
              "</div>"
            ],
            "text/plain": [
              "               price      quantity           age    item_price\n",
              "count   10000.000000  10000.000000  10000.000000  10000.000000\n",
              "mean    71409.440000      2.007900     49.426000  35630.600000\n",
              "std     81674.650962      0.817009     22.979176  35196.925803\n",
              "min      4200.000000      1.000000     10.000000   4200.000000\n",
              "25%     12000.000000      1.000000     30.000000   4200.000000\n",
              "50%     34000.000000      2.000000     49.000000  12000.000000\n",
              "75%     94000.000000      3.000000     69.000000  34000.000000\n",
              "max    282000.000000      3.000000     89.000000  94000.000000"
            ]
          },
          "metadata": {
            "tags": []
          },
          "execution_count": 68
        }
      ]
    },
    {
      "cell_type": "markdown",
      "metadata": {
        "id": "C3QI7BFPtV-X"
      },
      "source": [
        "### 課題10\n",
        "\n",
        "このデータはどれくらいの期間で収集されたデータでしょうか。\n",
        "\n",
        "`min()`や`max()`を使って予測しましょう。何に対して最大値あるいは最小値を求めればよいか考えてください。"
      ]
    },
    {
      "cell_type": "code",
      "metadata": {
        "colab": {
          "base_uri": "https://localhost:8080/",
          "height": 479
        },
        "id": "fOFMI9Z2q7IJ",
        "outputId": "16cc0a84-c3a8-4d4a-b95c-8d20009cbf15"
      },
      "source": [
        "dall.head(5)"
      ],
      "execution_count": null,
      "outputs": [
        {
          "output_type": "execute_result",
          "data": {
            "text/html": [
              "<div>\n",
              "<style scoped>\n",
              "    .dataframe tbody tr th:only-of-type {\n",
              "        vertical-align: middle;\n",
              "    }\n",
              "\n",
              "    .dataframe tbody tr th {\n",
              "        vertical-align: top;\n",
              "    }\n",
              "\n",
              "    .dataframe thead th {\n",
              "        text-align: right;\n",
              "    }\n",
              "</style>\n",
              "<table border=\"1\" class=\"dataframe\">\n",
              "  <thead>\n",
              "    <tr style=\"text-align: right;\">\n",
              "      <th></th>\n",
              "      <th>transaction_id</th>\n",
              "      <th>price</th>\n",
              "      <th>payment_date</th>\n",
              "      <th>customer_id</th>\n",
              "      <th>item_id</th>\n",
              "      <th>quantity</th>\n",
              "      <th>customer_name</th>\n",
              "      <th>registration_date</th>\n",
              "      <th>customer_name_kana</th>\n",
              "      <th>email</th>\n",
              "      <th>gender</th>\n",
              "      <th>age</th>\n",
              "      <th>birthday</th>\n",
              "      <th>pref</th>\n",
              "      <th>item_name</th>\n",
              "      <th>item_price</th>\n",
              "    </tr>\n",
              "  </thead>\n",
              "  <tbody>\n",
              "    <tr>\n",
              "      <th>0</th>\n",
              "      <td>T00056906</td>\n",
              "      <td>12000</td>\n",
              "      <td>2020-05-14 17:36:01</td>\n",
              "      <td>f0b61a02-7626-4785-b511-8ebdb864688c</td>\n",
              "      <td>Y0563</td>\n",
              "      <td>1</td>\n",
              "      <td>島村桃歌</td>\n",
              "      <td>2020-09-09 03:28:58</td>\n",
              "      <td>シマムラモモカ</td>\n",
              "      <td>Momoka_Shimamura@dtxtohhm.bozc.bls</td>\n",
              "      <td>女</td>\n",
              "      <td>53</td>\n",
              "      <td>1967/04/03</td>\n",
              "      <td>長野県</td>\n",
              "      <td>Glass</td>\n",
              "      <td>12000</td>\n",
              "    </tr>\n",
              "    <tr>\n",
              "      <th>1</th>\n",
              "      <td>T00008514</td>\n",
              "      <td>12000</td>\n",
              "      <td>2020-01-03 20:06:51</td>\n",
              "      <td>1a75bb90-d705-4418-bd2a-7d8182c92c45</td>\n",
              "      <td>Y0563</td>\n",
              "      <td>1</td>\n",
              "      <td>鮫島紗菜</td>\n",
              "      <td>2020-09-19 13:52:25</td>\n",
              "      <td>サメジマサナ</td>\n",
              "      <td>sana215@frwkhnl.qms</td>\n",
              "      <td>女</td>\n",
              "      <td>85</td>\n",
              "      <td>1935/09/06</td>\n",
              "      <td>群馬県</td>\n",
              "      <td>Glass</td>\n",
              "      <td>12000</td>\n",
              "    </tr>\n",
              "    <tr>\n",
              "      <th>2</th>\n",
              "      <td>T00044684</td>\n",
              "      <td>12000</td>\n",
              "      <td>2020-09-20 15:52:34</td>\n",
              "      <td>c3f04fa7-8940-4009-9e5e-66958cf6769b</td>\n",
              "      <td>Y0563</td>\n",
              "      <td>1</td>\n",
              "      <td>東山孝之</td>\n",
              "      <td>2020-07-13 01:46:20</td>\n",
              "      <td>ヒガシヤマタカユキ</td>\n",
              "      <td>takayukihigashiyama@zsqt.fls</td>\n",
              "      <td>男</td>\n",
              "      <td>66</td>\n",
              "      <td>1954/07/21</td>\n",
              "      <td>群馬県</td>\n",
              "      <td>Glass</td>\n",
              "      <td>12000</td>\n",
              "    </tr>\n",
              "    <tr>\n",
              "      <th>3</th>\n",
              "      <td>T00045438</td>\n",
              "      <td>12000</td>\n",
              "      <td>2020-11-06 07:03:44</td>\n",
              "      <td>c3f04fa7-8940-4009-9e5e-66958cf6769b</td>\n",
              "      <td>Y0563</td>\n",
              "      <td>1</td>\n",
              "      <td>東山孝之</td>\n",
              "      <td>2020-07-13 01:46:20</td>\n",
              "      <td>ヒガシヤマタカユキ</td>\n",
              "      <td>takayukihigashiyama@zsqt.fls</td>\n",
              "      <td>男</td>\n",
              "      <td>66</td>\n",
              "      <td>1954/07/21</td>\n",
              "      <td>群馬県</td>\n",
              "      <td>Glass</td>\n",
              "      <td>12000</td>\n",
              "    </tr>\n",
              "    <tr>\n",
              "      <th>4</th>\n",
              "      <td>T00099676</td>\n",
              "      <td>24000</td>\n",
              "      <td>2020-10-01 19:21:03</td>\n",
              "      <td>4d17bfb7-3599-42fd-be7b-99ad4bbaa2fe</td>\n",
              "      <td>Y0563</td>\n",
              "      <td>2</td>\n",
              "      <td>新谷正次</td>\n",
              "      <td>2020-07-18 15:40:15</td>\n",
              "      <td>アラヤショウジ</td>\n",
              "      <td>shouji909@kqmfo.os</td>\n",
              "      <td>男</td>\n",
              "      <td>76</td>\n",
              "      <td>1944/10/16</td>\n",
              "      <td>神奈川県</td>\n",
              "      <td>Glass</td>\n",
              "      <td>12000</td>\n",
              "    </tr>\n",
              "  </tbody>\n",
              "</table>\n",
              "</div>"
            ],
            "text/plain": [
              "  transaction_id  price         payment_date  ...  pref item_name  item_price\n",
              "0      T00056906  12000  2020-05-14 17:36:01  ...   長野県     Glass       12000\n",
              "1      T00008514  12000  2020-01-03 20:06:51  ...   群馬県     Glass       12000\n",
              "2      T00044684  12000  2020-09-20 15:52:34  ...   群馬県     Glass       12000\n",
              "3      T00045438  12000  2020-11-06 07:03:44  ...   群馬県     Glass       12000\n",
              "4      T00099676  24000  2020-10-01 19:21:03  ...  神奈川県     Glass       12000\n",
              "\n",
              "[5 rows x 16 columns]"
            ]
          },
          "metadata": {
            "tags": []
          },
          "execution_count": 70
        }
      ]
    },
    {
      "cell_type": "code",
      "metadata": {
        "colab": {
          "base_uri": "https://localhost:8080/",
          "height": 35
        },
        "id": "XTUBdioIrSlc",
        "outputId": "a32ea795-6560-4716-80a4-3f630b665661"
      },
      "source": [
        "dall['payment_date'].min()\r\n"
      ],
      "execution_count": null,
      "outputs": [
        {
          "output_type": "execute_result",
          "data": {
            "application/vnd.google.colaboratory.intrinsic+json": {
              "type": "string"
            },
            "text/plain": [
              "'2020-01-01 00:01:05'"
            ]
          },
          "metadata": {
            "tags": []
          },
          "execution_count": 74
        }
      ]
    },
    {
      "cell_type": "code",
      "metadata": {
        "colab": {
          "base_uri": "https://localhost:8080/",
          "height": 35
        },
        "id": "TPSZXezXrj9W",
        "outputId": "60e2c5b2-9a2c-4d41-b5d0-3130551472e8"
      },
      "source": [
        "dall['payment_date'].max()"
      ],
      "execution_count": null,
      "outputs": [
        {
          "output_type": "execute_result",
          "data": {
            "application/vnd.google.colaboratory.intrinsic+json": {
              "type": "string"
            },
            "text/plain": [
              "'2020-12-31 23:26:46'"
            ]
          },
          "metadata": {
            "tags": []
          },
          "execution_count": 75
        }
      ]
    },
    {
      "cell_type": "markdown",
      "metadata": {
        "id": "E0Ier97Krm0S"
      },
      "source": [
        "2020/1/1 00:01:05から2020/12/31 23:26:46までの期間で収拾されたデータ"
      ]
    },
    {
      "cell_type": "markdown",
      "metadata": {
        "id": "X539960nyjsa"
      },
      "source": [
        "## 【6】 集計"
      ]
    },
    {
      "cell_type": "markdown",
      "metadata": {
        "id": "sC7qWTnavd_J"
      },
      "source": [
        "### 課題11\n",
        "\n",
        "データの型を確認しましょう。`df.dtypes`です。\n",
        "\n",
        "すると、Object型が多いことがわかります。実はObject型は集計には不向きです。`df.describe()`で集計されたのは、int64型の列だけであることに気付きましたか？\n",
        "\n",
        "例えば、月ごとの売上を見たい場合、`payment_date`列が使えそうですが、このままでは集計できません。そのため、なんとか型を変えたいと思います。\n",
        "\n",
        "`pd.to_datetime()`と`dt.strftime()`を使って型変換を行い、`payment_month`列を作ってください(形式は`%Y%m`としてください)。"
      ]
    },
    {
      "cell_type": "code",
      "metadata": {
        "colab": {
          "base_uri": "https://localhost:8080/",
          "height": 479
        },
        "id": "Etyd49vzmKBN",
        "outputId": "b8fbb496-5366-473f-cc9d-49b70308c917"
      },
      "source": [
        "dall['payment_date'] = pd.to_datetime(dall['payment_date'])\r\n",
        "dall['payment_month'] = dall['payment_date'].dt.strftime('%Y%m')\r\n",
        "dall.head()"
      ],
      "execution_count": null,
      "outputs": [
        {
          "output_type": "execute_result",
          "data": {
            "text/html": [
              "<div>\n",
              "<style scoped>\n",
              "    .dataframe tbody tr th:only-of-type {\n",
              "        vertical-align: middle;\n",
              "    }\n",
              "\n",
              "    .dataframe tbody tr th {\n",
              "        vertical-align: top;\n",
              "    }\n",
              "\n",
              "    .dataframe thead th {\n",
              "        text-align: right;\n",
              "    }\n",
              "</style>\n",
              "<table border=\"1\" class=\"dataframe\">\n",
              "  <thead>\n",
              "    <tr style=\"text-align: right;\">\n",
              "      <th></th>\n",
              "      <th>transaction_id</th>\n",
              "      <th>price</th>\n",
              "      <th>payment_date</th>\n",
              "      <th>customer_id</th>\n",
              "      <th>item_id</th>\n",
              "      <th>quantity</th>\n",
              "      <th>customer_name</th>\n",
              "      <th>registration_date</th>\n",
              "      <th>customer_name_kana</th>\n",
              "      <th>email</th>\n",
              "      <th>gender</th>\n",
              "      <th>age</th>\n",
              "      <th>birthday</th>\n",
              "      <th>pref</th>\n",
              "      <th>item_name</th>\n",
              "      <th>item_price</th>\n",
              "      <th>payment_month</th>\n",
              "    </tr>\n",
              "  </thead>\n",
              "  <tbody>\n",
              "    <tr>\n",
              "      <th>0</th>\n",
              "      <td>T00056906</td>\n",
              "      <td>12000</td>\n",
              "      <td>2020-05-14 17:36:01</td>\n",
              "      <td>f0b61a02-7626-4785-b511-8ebdb864688c</td>\n",
              "      <td>Y0563</td>\n",
              "      <td>1</td>\n",
              "      <td>島村桃歌</td>\n",
              "      <td>2020-09-09 03:28:58</td>\n",
              "      <td>シマムラモモカ</td>\n",
              "      <td>Momoka_Shimamura@dtxtohhm.bozc.bls</td>\n",
              "      <td>女</td>\n",
              "      <td>53</td>\n",
              "      <td>1967/04/03</td>\n",
              "      <td>長野県</td>\n",
              "      <td>Glass</td>\n",
              "      <td>12000</td>\n",
              "      <td>202005</td>\n",
              "    </tr>\n",
              "    <tr>\n",
              "      <th>1</th>\n",
              "      <td>T00008514</td>\n",
              "      <td>12000</td>\n",
              "      <td>2020-01-03 20:06:51</td>\n",
              "      <td>1a75bb90-d705-4418-bd2a-7d8182c92c45</td>\n",
              "      <td>Y0563</td>\n",
              "      <td>1</td>\n",
              "      <td>鮫島紗菜</td>\n",
              "      <td>2020-09-19 13:52:25</td>\n",
              "      <td>サメジマサナ</td>\n",
              "      <td>sana215@frwkhnl.qms</td>\n",
              "      <td>女</td>\n",
              "      <td>85</td>\n",
              "      <td>1935/09/06</td>\n",
              "      <td>群馬県</td>\n",
              "      <td>Glass</td>\n",
              "      <td>12000</td>\n",
              "      <td>202001</td>\n",
              "    </tr>\n",
              "    <tr>\n",
              "      <th>2</th>\n",
              "      <td>T00044684</td>\n",
              "      <td>12000</td>\n",
              "      <td>2020-09-20 15:52:34</td>\n",
              "      <td>c3f04fa7-8940-4009-9e5e-66958cf6769b</td>\n",
              "      <td>Y0563</td>\n",
              "      <td>1</td>\n",
              "      <td>東山孝之</td>\n",
              "      <td>2020-07-13 01:46:20</td>\n",
              "      <td>ヒガシヤマタカユキ</td>\n",
              "      <td>takayukihigashiyama@zsqt.fls</td>\n",
              "      <td>男</td>\n",
              "      <td>66</td>\n",
              "      <td>1954/07/21</td>\n",
              "      <td>群馬県</td>\n",
              "      <td>Glass</td>\n",
              "      <td>12000</td>\n",
              "      <td>202009</td>\n",
              "    </tr>\n",
              "    <tr>\n",
              "      <th>3</th>\n",
              "      <td>T00045438</td>\n",
              "      <td>12000</td>\n",
              "      <td>2020-11-06 07:03:44</td>\n",
              "      <td>c3f04fa7-8940-4009-9e5e-66958cf6769b</td>\n",
              "      <td>Y0563</td>\n",
              "      <td>1</td>\n",
              "      <td>東山孝之</td>\n",
              "      <td>2020-07-13 01:46:20</td>\n",
              "      <td>ヒガシヤマタカユキ</td>\n",
              "      <td>takayukihigashiyama@zsqt.fls</td>\n",
              "      <td>男</td>\n",
              "      <td>66</td>\n",
              "      <td>1954/07/21</td>\n",
              "      <td>群馬県</td>\n",
              "      <td>Glass</td>\n",
              "      <td>12000</td>\n",
              "      <td>202011</td>\n",
              "    </tr>\n",
              "    <tr>\n",
              "      <th>4</th>\n",
              "      <td>T00099676</td>\n",
              "      <td>24000</td>\n",
              "      <td>2020-10-01 19:21:03</td>\n",
              "      <td>4d17bfb7-3599-42fd-be7b-99ad4bbaa2fe</td>\n",
              "      <td>Y0563</td>\n",
              "      <td>2</td>\n",
              "      <td>新谷正次</td>\n",
              "      <td>2020-07-18 15:40:15</td>\n",
              "      <td>アラヤショウジ</td>\n",
              "      <td>shouji909@kqmfo.os</td>\n",
              "      <td>男</td>\n",
              "      <td>76</td>\n",
              "      <td>1944/10/16</td>\n",
              "      <td>神奈川県</td>\n",
              "      <td>Glass</td>\n",
              "      <td>12000</td>\n",
              "      <td>202010</td>\n",
              "    </tr>\n",
              "  </tbody>\n",
              "</table>\n",
              "</div>"
            ],
            "text/plain": [
              "  transaction_id  price        payment_date  ... item_name item_price  payment_month\n",
              "0      T00056906  12000 2020-05-14 17:36:01  ...     Glass      12000         202005\n",
              "1      T00008514  12000 2020-01-03 20:06:51  ...     Glass      12000         202001\n",
              "2      T00044684  12000 2020-09-20 15:52:34  ...     Glass      12000         202009\n",
              "3      T00045438  12000 2020-11-06 07:03:44  ...     Glass      12000         202011\n",
              "4      T00099676  24000 2020-10-01 19:21:03  ...     Glass      12000         202010\n",
              "\n",
              "[5 rows x 17 columns]"
            ]
          },
          "metadata": {
            "tags": []
          },
          "execution_count": 86
        }
      ]
    },
    {
      "cell_type": "code",
      "metadata": {
        "colab": {
          "base_uri": "https://localhost:8080/",
          "height": 479
        },
        "id": "OibHh1zovquv",
        "outputId": "08f867e3-c8f1-4ec7-e34b-d5cb429b2046"
      },
      "source": [
        "full_df['payment_date'] = pd.to_datetime(full_df['payment_date'])\n",
        "full_df['payment_month'] = full_df['payment_date'].dt.strftime('%Y%m')\n",
        "full_df.head()"
      ],
      "execution_count": null,
      "outputs": [
        {
          "output_type": "execute_result",
          "data": {
            "text/html": [
              "<div>\n",
              "<style scoped>\n",
              "    .dataframe tbody tr th:only-of-type {\n",
              "        vertical-align: middle;\n",
              "    }\n",
              "\n",
              "    .dataframe tbody tr th {\n",
              "        vertical-align: top;\n",
              "    }\n",
              "\n",
              "    .dataframe thead th {\n",
              "        text-align: right;\n",
              "    }\n",
              "</style>\n",
              "<table border=\"1\" class=\"dataframe\">\n",
              "  <thead>\n",
              "    <tr style=\"text-align: right;\">\n",
              "      <th></th>\n",
              "      <th>transaction_id</th>\n",
              "      <th>price</th>\n",
              "      <th>payment_date</th>\n",
              "      <th>customer_id</th>\n",
              "      <th>item_id</th>\n",
              "      <th>quantity</th>\n",
              "      <th>customer_name</th>\n",
              "      <th>registration_date</th>\n",
              "      <th>customer_name_kana</th>\n",
              "      <th>email</th>\n",
              "      <th>gender</th>\n",
              "      <th>age</th>\n",
              "      <th>birthday</th>\n",
              "      <th>pref</th>\n",
              "      <th>item_name</th>\n",
              "      <th>item_price</th>\n",
              "      <th>payment_month</th>\n",
              "    </tr>\n",
              "  </thead>\n",
              "  <tbody>\n",
              "    <tr>\n",
              "      <th>0</th>\n",
              "      <td>T00056906</td>\n",
              "      <td>12000</td>\n",
              "      <td>2020-05-14 17:36:01</td>\n",
              "      <td>f0b61a02-7626-4785-b511-8ebdb864688c</td>\n",
              "      <td>Y0563</td>\n",
              "      <td>1</td>\n",
              "      <td>島村桃歌</td>\n",
              "      <td>2020-09-09 03:28:58</td>\n",
              "      <td>シマムラモモカ</td>\n",
              "      <td>Momoka_Shimamura@dtxtohhm.bozc.bls</td>\n",
              "      <td>女</td>\n",
              "      <td>53</td>\n",
              "      <td>1967/04/03</td>\n",
              "      <td>長野県</td>\n",
              "      <td>Glass</td>\n",
              "      <td>12000</td>\n",
              "      <td>202005</td>\n",
              "    </tr>\n",
              "    <tr>\n",
              "      <th>1</th>\n",
              "      <td>T00008514</td>\n",
              "      <td>12000</td>\n",
              "      <td>2020-01-03 20:06:51</td>\n",
              "      <td>1a75bb90-d705-4418-bd2a-7d8182c92c45</td>\n",
              "      <td>Y0563</td>\n",
              "      <td>1</td>\n",
              "      <td>鮫島紗菜</td>\n",
              "      <td>2020-09-19 13:52:25</td>\n",
              "      <td>サメジマサナ</td>\n",
              "      <td>sana215@frwkhnl.qms</td>\n",
              "      <td>女</td>\n",
              "      <td>85</td>\n",
              "      <td>1935/09/06</td>\n",
              "      <td>群馬県</td>\n",
              "      <td>Glass</td>\n",
              "      <td>12000</td>\n",
              "      <td>202001</td>\n",
              "    </tr>\n",
              "    <tr>\n",
              "      <th>2</th>\n",
              "      <td>T00044684</td>\n",
              "      <td>12000</td>\n",
              "      <td>2020-09-20 15:52:34</td>\n",
              "      <td>c3f04fa7-8940-4009-9e5e-66958cf6769b</td>\n",
              "      <td>Y0563</td>\n",
              "      <td>1</td>\n",
              "      <td>東山孝之</td>\n",
              "      <td>2020-07-13 01:46:20</td>\n",
              "      <td>ヒガシヤマタカユキ</td>\n",
              "      <td>takayukihigashiyama@zsqt.fls</td>\n",
              "      <td>男</td>\n",
              "      <td>66</td>\n",
              "      <td>1954/07/21</td>\n",
              "      <td>群馬県</td>\n",
              "      <td>Glass</td>\n",
              "      <td>12000</td>\n",
              "      <td>202009</td>\n",
              "    </tr>\n",
              "    <tr>\n",
              "      <th>3</th>\n",
              "      <td>T00045438</td>\n",
              "      <td>12000</td>\n",
              "      <td>2020-11-06 07:03:44</td>\n",
              "      <td>c3f04fa7-8940-4009-9e5e-66958cf6769b</td>\n",
              "      <td>Y0563</td>\n",
              "      <td>1</td>\n",
              "      <td>東山孝之</td>\n",
              "      <td>2020-07-13 01:46:20</td>\n",
              "      <td>ヒガシヤマタカユキ</td>\n",
              "      <td>takayukihigashiyama@zsqt.fls</td>\n",
              "      <td>男</td>\n",
              "      <td>66</td>\n",
              "      <td>1954/07/21</td>\n",
              "      <td>群馬県</td>\n",
              "      <td>Glass</td>\n",
              "      <td>12000</td>\n",
              "      <td>202011</td>\n",
              "    </tr>\n",
              "    <tr>\n",
              "      <th>4</th>\n",
              "      <td>T00099676</td>\n",
              "      <td>24000</td>\n",
              "      <td>2020-10-01 19:21:03</td>\n",
              "      <td>4d17bfb7-3599-42fd-be7b-99ad4bbaa2fe</td>\n",
              "      <td>Y0563</td>\n",
              "      <td>2</td>\n",
              "      <td>新谷正次</td>\n",
              "      <td>2020-07-18 15:40:15</td>\n",
              "      <td>アラヤショウジ</td>\n",
              "      <td>shouji909@kqmfo.os</td>\n",
              "      <td>男</td>\n",
              "      <td>76</td>\n",
              "      <td>1944/10/16</td>\n",
              "      <td>神奈川県</td>\n",
              "      <td>Glass</td>\n",
              "      <td>12000</td>\n",
              "      <td>202010</td>\n",
              "    </tr>\n",
              "  </tbody>\n",
              "</table>\n",
              "</div>"
            ],
            "text/plain": [
              "  transaction_id  price        payment_date  ... item_name item_price  payment_month\n",
              "0      T00056906  12000 2020-05-14 17:36:01  ...     Glass      12000         202005\n",
              "1      T00008514  12000 2020-01-03 20:06:51  ...     Glass      12000         202001\n",
              "2      T00044684  12000 2020-09-20 15:52:34  ...     Glass      12000         202009\n",
              "3      T00045438  12000 2020-11-06 07:03:44  ...     Glass      12000         202011\n",
              "4      T00099676  24000 2020-10-01 19:21:03  ...     Glass      12000         202010\n",
              "\n",
              "[5 rows x 17 columns]"
            ]
          },
          "metadata": {
            "tags": []
          },
          "execution_count": 7
        }
      ]
    },
    {
      "cell_type": "markdown",
      "metadata": {
        "id": "EFxHocJYxxxa"
      },
      "source": [
        "### 課題12\n",
        "\n",
        "月ごとの集計を行います。\n",
        "\n",
        "まず`df.groupby()`と`pyment_month`列で集計してください。\n",
        "\n",
        "つぎに売上（`price`の合計値）を出力してください。"
      ]
    },
    {
      "cell_type": "code",
      "metadata": {
        "colab": {
          "base_uri": "https://localhost:8080/"
        },
        "id": "7uqkItUX6B0i",
        "outputId": "bc6725e2-dda2-42f5-9e6a-ce2d8fb42a6b"
      },
      "source": [
        "dall.groupby('payment_month').sum()['price']"
      ],
      "execution_count": null,
      "outputs": [
        {
          "output_type": "execute_result",
          "data": {
            "text/plain": [
              "payment_month\n",
              "202001    61788400\n",
              "202002    55264800\n",
              "202003    62268800\n",
              "202004    59086800\n",
              "202005    63419600\n",
              "202006    61690800\n",
              "202007    57702400\n",
              "202008    62836600\n",
              "202009    53676000\n",
              "202010    58887600\n",
              "202011    57397200\n",
              "202012    60075400\n",
              "Name: price, dtype: int64"
            ]
          },
          "metadata": {
            "tags": []
          },
          "execution_count": 92
        }
      ]
    },
    {
      "cell_type": "markdown",
      "metadata": {
        "id": "6W2GQyh1yonu"
      },
      "source": [
        "### 課題13\n",
        "\n",
        "ではつぎは、月ごとに加えて、商品ごとに集計し、その売上と売上個数を表示してください。"
      ]
    },
    {
      "cell_type": "code",
      "metadata": {
        "colab": {
          "base_uri": "https://localhost:8080/",
          "height": 1000
        },
        "id": "HlEr9YSl6eqF",
        "outputId": "b2945a9e-7e26-41d6-f73f-172405147290"
      },
      "source": [
        "dall.groupby(['payment_month','item_name']).sum()[['price','quantity']]"
      ],
      "execution_count": null,
      "outputs": [
        {
          "output_type": "execute_result",
          "data": {
            "text/html": [
              "<div>\n",
              "<style scoped>\n",
              "    .dataframe tbody tr th:only-of-type {\n",
              "        vertical-align: middle;\n",
              "    }\n",
              "\n",
              "    .dataframe tbody tr th {\n",
              "        vertical-align: top;\n",
              "    }\n",
              "\n",
              "    .dataframe thead th {\n",
              "        text-align: right;\n",
              "    }\n",
              "</style>\n",
              "<table border=\"1\" class=\"dataframe\">\n",
              "  <thead>\n",
              "    <tr style=\"text-align: right;\">\n",
              "      <th></th>\n",
              "      <th></th>\n",
              "      <th>price</th>\n",
              "      <th>quantity</th>\n",
              "    </tr>\n",
              "    <tr>\n",
              "      <th>payment_month</th>\n",
              "      <th>item_name</th>\n",
              "      <th></th>\n",
              "      <th></th>\n",
              "    </tr>\n",
              "  </thead>\n",
              "  <tbody>\n",
              "    <tr>\n",
              "      <th rowspan=\"4\" valign=\"top\">202001</th>\n",
              "      <th>Bag</th>\n",
              "      <td>14382000</td>\n",
              "      <td>423</td>\n",
              "    </tr>\n",
              "    <tr>\n",
              "      <th>Glass</th>\n",
              "      <td>4692000</td>\n",
              "      <td>391</td>\n",
              "    </tr>\n",
              "    <tr>\n",
              "      <th>PC</th>\n",
              "      <td>40984000</td>\n",
              "      <td>436</td>\n",
              "    </tr>\n",
              "    <tr>\n",
              "      <th>Pen</th>\n",
              "      <td>1730400</td>\n",
              "      <td>412</td>\n",
              "    </tr>\n",
              "    <tr>\n",
              "      <th rowspan=\"4\" valign=\"top\">202002</th>\n",
              "      <th>Bag</th>\n",
              "      <td>12682000</td>\n",
              "      <td>373</td>\n",
              "    </tr>\n",
              "    <tr>\n",
              "      <th>Glass</th>\n",
              "      <td>4152000</td>\n",
              "      <td>346</td>\n",
              "    </tr>\n",
              "    <tr>\n",
              "      <th>PC</th>\n",
              "      <td>36566000</td>\n",
              "      <td>389</td>\n",
              "    </tr>\n",
              "    <tr>\n",
              "      <th>Pen</th>\n",
              "      <td>1864800</td>\n",
              "      <td>444</td>\n",
              "    </tr>\n",
              "    <tr>\n",
              "      <th rowspan=\"4\" valign=\"top\">202003</th>\n",
              "      <th>Bag</th>\n",
              "      <td>14008000</td>\n",
              "      <td>412</td>\n",
              "    </tr>\n",
              "    <tr>\n",
              "      <th>Glass</th>\n",
              "      <td>5496000</td>\n",
              "      <td>458</td>\n",
              "    </tr>\n",
              "    <tr>\n",
              "      <th>PC</th>\n",
              "      <td>40984000</td>\n",
              "      <td>436</td>\n",
              "    </tr>\n",
              "    <tr>\n",
              "      <th>Pen</th>\n",
              "      <td>1780800</td>\n",
              "      <td>424</td>\n",
              "    </tr>\n",
              "    <tr>\n",
              "      <th rowspan=\"4\" valign=\"top\">202004</th>\n",
              "      <th>Bag</th>\n",
              "      <td>13226000</td>\n",
              "      <td>389</td>\n",
              "    </tr>\n",
              "    <tr>\n",
              "      <th>Glass</th>\n",
              "      <td>4704000</td>\n",
              "      <td>392</td>\n",
              "    </tr>\n",
              "    <tr>\n",
              "      <th>PC</th>\n",
              "      <td>39292000</td>\n",
              "      <td>418</td>\n",
              "    </tr>\n",
              "    <tr>\n",
              "      <th>Pen</th>\n",
              "      <td>1864800</td>\n",
              "      <td>444</td>\n",
              "    </tr>\n",
              "    <tr>\n",
              "      <th rowspan=\"4\" valign=\"top\">202005</th>\n",
              "      <th>Bag</th>\n",
              "      <td>13974000</td>\n",
              "      <td>411</td>\n",
              "    </tr>\n",
              "    <tr>\n",
              "      <th>Glass</th>\n",
              "      <td>5328000</td>\n",
              "      <td>444</td>\n",
              "    </tr>\n",
              "    <tr>\n",
              "      <th>PC</th>\n",
              "      <td>42488000</td>\n",
              "      <td>452</td>\n",
              "    </tr>\n",
              "    <tr>\n",
              "      <th>Pen</th>\n",
              "      <td>1629600</td>\n",
              "      <td>388</td>\n",
              "    </tr>\n",
              "    <tr>\n",
              "      <th rowspan=\"4\" valign=\"top\">202006</th>\n",
              "      <th>Bag</th>\n",
              "      <td>14858000</td>\n",
              "      <td>437</td>\n",
              "    </tr>\n",
              "    <tr>\n",
              "      <th>Glass</th>\n",
              "      <td>5112000</td>\n",
              "      <td>426</td>\n",
              "    </tr>\n",
              "    <tr>\n",
              "      <th>PC</th>\n",
              "      <td>39856000</td>\n",
              "      <td>424</td>\n",
              "    </tr>\n",
              "    <tr>\n",
              "      <th>Pen</th>\n",
              "      <td>1864800</td>\n",
              "      <td>444</td>\n",
              "    </tr>\n",
              "    <tr>\n",
              "      <th rowspan=\"4\" valign=\"top\">202007</th>\n",
              "      <th>Bag</th>\n",
              "      <td>12954000</td>\n",
              "      <td>381</td>\n",
              "    </tr>\n",
              "    <tr>\n",
              "      <th>Glass</th>\n",
              "      <td>5124000</td>\n",
              "      <td>427</td>\n",
              "    </tr>\n",
              "    <tr>\n",
              "      <th>PC</th>\n",
              "      <td>37600000</td>\n",
              "      <td>400</td>\n",
              "    </tr>\n",
              "    <tr>\n",
              "      <th>Pen</th>\n",
              "      <td>2024400</td>\n",
              "      <td>482</td>\n",
              "    </tr>\n",
              "    <tr>\n",
              "      <th rowspan=\"4\" valign=\"top\">202008</th>\n",
              "      <th>Bag</th>\n",
              "      <td>13158000</td>\n",
              "      <td>387</td>\n",
              "    </tr>\n",
              "    <tr>\n",
              "      <th>Glass</th>\n",
              "      <td>5424000</td>\n",
              "      <td>452</td>\n",
              "    </tr>\n",
              "    <tr>\n",
              "      <th>PC</th>\n",
              "      <td>42394000</td>\n",
              "      <td>451</td>\n",
              "    </tr>\n",
              "    <tr>\n",
              "      <th>Pen</th>\n",
              "      <td>1860600</td>\n",
              "      <td>443</td>\n",
              "    </tr>\n",
              "    <tr>\n",
              "      <th rowspan=\"4\" valign=\"top\">202009</th>\n",
              "      <th>Bag</th>\n",
              "      <td>12648000</td>\n",
              "      <td>372</td>\n",
              "    </tr>\n",
              "    <tr>\n",
              "      <th>Glass</th>\n",
              "      <td>5508000</td>\n",
              "      <td>459</td>\n",
              "    </tr>\n",
              "    <tr>\n",
              "      <th>PC</th>\n",
              "      <td>33840000</td>\n",
              "      <td>360</td>\n",
              "    </tr>\n",
              "    <tr>\n",
              "      <th>Pen</th>\n",
              "      <td>1680000</td>\n",
              "      <td>400</td>\n",
              "    </tr>\n",
              "    <tr>\n",
              "      <th rowspan=\"4\" valign=\"top\">202010</th>\n",
              "      <th>Bag</th>\n",
              "      <td>15232000</td>\n",
              "      <td>448</td>\n",
              "    </tr>\n",
              "    <tr>\n",
              "      <th>Glass</th>\n",
              "      <td>5544000</td>\n",
              "      <td>462</td>\n",
              "    </tr>\n",
              "    <tr>\n",
              "      <th>PC</th>\n",
              "      <td>36566000</td>\n",
              "      <td>389</td>\n",
              "    </tr>\n",
              "    <tr>\n",
              "      <th>Pen</th>\n",
              "      <td>1545600</td>\n",
              "      <td>368</td>\n",
              "    </tr>\n",
              "    <tr>\n",
              "      <th rowspan=\"4\" valign=\"top\">202011</th>\n",
              "      <th>Bag</th>\n",
              "      <td>12818000</td>\n",
              "      <td>377</td>\n",
              "    </tr>\n",
              "    <tr>\n",
              "      <th>Glass</th>\n",
              "      <td>5712000</td>\n",
              "      <td>476</td>\n",
              "    </tr>\n",
              "    <tr>\n",
              "      <th>PC</th>\n",
              "      <td>37036000</td>\n",
              "      <td>394</td>\n",
              "    </tr>\n",
              "    <tr>\n",
              "      <th>Pen</th>\n",
              "      <td>1831200</td>\n",
              "      <td>436</td>\n",
              "    </tr>\n",
              "    <tr>\n",
              "      <th rowspan=\"4\" valign=\"top\">202012</th>\n",
              "      <th>Bag</th>\n",
              "      <td>14076000</td>\n",
              "      <td>414</td>\n",
              "    </tr>\n",
              "    <tr>\n",
              "      <th>Glass</th>\n",
              "      <td>5112000</td>\n",
              "      <td>426</td>\n",
              "    </tr>\n",
              "    <tr>\n",
              "      <th>PC</th>\n",
              "      <td>39010000</td>\n",
              "      <td>415</td>\n",
              "    </tr>\n",
              "    <tr>\n",
              "      <th>Pen</th>\n",
              "      <td>1877400</td>\n",
              "      <td>447</td>\n",
              "    </tr>\n",
              "  </tbody>\n",
              "</table>\n",
              "</div>"
            ],
            "text/plain": [
              "                            price  quantity\n",
              "payment_month item_name                    \n",
              "202001        Bag        14382000       423\n",
              "              Glass       4692000       391\n",
              "              PC         40984000       436\n",
              "              Pen         1730400       412\n",
              "202002        Bag        12682000       373\n",
              "              Glass       4152000       346\n",
              "              PC         36566000       389\n",
              "              Pen         1864800       444\n",
              "202003        Bag        14008000       412\n",
              "              Glass       5496000       458\n",
              "              PC         40984000       436\n",
              "              Pen         1780800       424\n",
              "202004        Bag        13226000       389\n",
              "              Glass       4704000       392\n",
              "              PC         39292000       418\n",
              "              Pen         1864800       444\n",
              "202005        Bag        13974000       411\n",
              "              Glass       5328000       444\n",
              "              PC         42488000       452\n",
              "              Pen         1629600       388\n",
              "202006        Bag        14858000       437\n",
              "              Glass       5112000       426\n",
              "              PC         39856000       424\n",
              "              Pen         1864800       444\n",
              "202007        Bag        12954000       381\n",
              "              Glass       5124000       427\n",
              "              PC         37600000       400\n",
              "              Pen         2024400       482\n",
              "202008        Bag        13158000       387\n",
              "              Glass       5424000       452\n",
              "              PC         42394000       451\n",
              "              Pen         1860600       443\n",
              "202009        Bag        12648000       372\n",
              "              Glass       5508000       459\n",
              "              PC         33840000       360\n",
              "              Pen         1680000       400\n",
              "202010        Bag        15232000       448\n",
              "              Glass       5544000       462\n",
              "              PC         36566000       389\n",
              "              Pen         1545600       368\n",
              "202011        Bag        12818000       377\n",
              "              Glass       5712000       476\n",
              "              PC         37036000       394\n",
              "              Pen         1831200       436\n",
              "202012        Bag        14076000       414\n",
              "              Glass       5112000       426\n",
              "              PC         39010000       415\n",
              "              Pen         1877400       447"
            ]
          },
          "metadata": {
            "tags": []
          },
          "execution_count": 94
        }
      ]
    },
    {
      "cell_type": "markdown",
      "metadata": {
        "id": "O78fCW3e0Hgi"
      },
      "source": [
        "## 【7】 可視化\n",
        "\n",
        "月ごとの各商品の売上を可視化しましょう。\n",
        "\n",
        "実は`groupby()`だと可視化しにくいので、`pandas.pivot_table()`を使いましょう。"
      ]
    },
    {
      "cell_type": "code",
      "metadata": {
        "id": "mUBBoE1-7O59"
      },
      "source": [
        ""
      ],
      "execution_count": null,
      "outputs": []
    },
    {
      "cell_type": "markdown",
      "metadata": {
        "id": "elSS0p4z45Kb"
      },
      "source": [
        "### 課題14\n",
        "\n",
        "`pd.pivot_table()`を使って、`payment_month`を行見出し、`item_name`を列見出しとするデータフレームを作成してください。"
      ]
    },
    {
      "cell_type": "code",
      "metadata": {
        "colab": {
          "base_uri": "https://localhost:8080/",
          "height": 452
        },
        "id": "cnY7BvI-7j7j",
        "outputId": "66c7db2f-3f2c-41e0-e5c3-0b08f3d6caed"
      },
      "source": [
        "data = pd.pivot_table(dall,index='payment_month',columns='item_name', values='price', aggfunc='sum')\r\n",
        "data"
      ],
      "execution_count": null,
      "outputs": [
        {
          "output_type": "execute_result",
          "data": {
            "text/html": [
              "<div>\n",
              "<style scoped>\n",
              "    .dataframe tbody tr th:only-of-type {\n",
              "        vertical-align: middle;\n",
              "    }\n",
              "\n",
              "    .dataframe tbody tr th {\n",
              "        vertical-align: top;\n",
              "    }\n",
              "\n",
              "    .dataframe thead th {\n",
              "        text-align: right;\n",
              "    }\n",
              "</style>\n",
              "<table border=\"1\" class=\"dataframe\">\n",
              "  <thead>\n",
              "    <tr style=\"text-align: right;\">\n",
              "      <th>item_name</th>\n",
              "      <th>Bag</th>\n",
              "      <th>Glass</th>\n",
              "      <th>PC</th>\n",
              "      <th>Pen</th>\n",
              "    </tr>\n",
              "    <tr>\n",
              "      <th>payment_month</th>\n",
              "      <th></th>\n",
              "      <th></th>\n",
              "      <th></th>\n",
              "      <th></th>\n",
              "    </tr>\n",
              "  </thead>\n",
              "  <tbody>\n",
              "    <tr>\n",
              "      <th>202001</th>\n",
              "      <td>14382000</td>\n",
              "      <td>4692000</td>\n",
              "      <td>40984000</td>\n",
              "      <td>1730400</td>\n",
              "    </tr>\n",
              "    <tr>\n",
              "      <th>202002</th>\n",
              "      <td>12682000</td>\n",
              "      <td>4152000</td>\n",
              "      <td>36566000</td>\n",
              "      <td>1864800</td>\n",
              "    </tr>\n",
              "    <tr>\n",
              "      <th>202003</th>\n",
              "      <td>14008000</td>\n",
              "      <td>5496000</td>\n",
              "      <td>40984000</td>\n",
              "      <td>1780800</td>\n",
              "    </tr>\n",
              "    <tr>\n",
              "      <th>202004</th>\n",
              "      <td>13226000</td>\n",
              "      <td>4704000</td>\n",
              "      <td>39292000</td>\n",
              "      <td>1864800</td>\n",
              "    </tr>\n",
              "    <tr>\n",
              "      <th>202005</th>\n",
              "      <td>13974000</td>\n",
              "      <td>5328000</td>\n",
              "      <td>42488000</td>\n",
              "      <td>1629600</td>\n",
              "    </tr>\n",
              "    <tr>\n",
              "      <th>202006</th>\n",
              "      <td>14858000</td>\n",
              "      <td>5112000</td>\n",
              "      <td>39856000</td>\n",
              "      <td>1864800</td>\n",
              "    </tr>\n",
              "    <tr>\n",
              "      <th>202007</th>\n",
              "      <td>12954000</td>\n",
              "      <td>5124000</td>\n",
              "      <td>37600000</td>\n",
              "      <td>2024400</td>\n",
              "    </tr>\n",
              "    <tr>\n",
              "      <th>202008</th>\n",
              "      <td>13158000</td>\n",
              "      <td>5424000</td>\n",
              "      <td>42394000</td>\n",
              "      <td>1860600</td>\n",
              "    </tr>\n",
              "    <tr>\n",
              "      <th>202009</th>\n",
              "      <td>12648000</td>\n",
              "      <td>5508000</td>\n",
              "      <td>33840000</td>\n",
              "      <td>1680000</td>\n",
              "    </tr>\n",
              "    <tr>\n",
              "      <th>202010</th>\n",
              "      <td>15232000</td>\n",
              "      <td>5544000</td>\n",
              "      <td>36566000</td>\n",
              "      <td>1545600</td>\n",
              "    </tr>\n",
              "    <tr>\n",
              "      <th>202011</th>\n",
              "      <td>12818000</td>\n",
              "      <td>5712000</td>\n",
              "      <td>37036000</td>\n",
              "      <td>1831200</td>\n",
              "    </tr>\n",
              "    <tr>\n",
              "      <th>202012</th>\n",
              "      <td>14076000</td>\n",
              "      <td>5112000</td>\n",
              "      <td>39010000</td>\n",
              "      <td>1877400</td>\n",
              "    </tr>\n",
              "  </tbody>\n",
              "</table>\n",
              "</div>"
            ],
            "text/plain": [
              "item_name           Bag    Glass        PC      Pen\n",
              "payment_month                                      \n",
              "202001         14382000  4692000  40984000  1730400\n",
              "202002         12682000  4152000  36566000  1864800\n",
              "202003         14008000  5496000  40984000  1780800\n",
              "202004         13226000  4704000  39292000  1864800\n",
              "202005         13974000  5328000  42488000  1629600\n",
              "202006         14858000  5112000  39856000  1864800\n",
              "202007         12954000  5124000  37600000  2024400\n",
              "202008         13158000  5424000  42394000  1860600\n",
              "202009         12648000  5508000  33840000  1680000\n",
              "202010         15232000  5544000  36566000  1545600\n",
              "202011         12818000  5712000  37036000  1831200\n",
              "202012         14076000  5112000  39010000  1877400"
            ]
          },
          "metadata": {
            "tags": []
          },
          "execution_count": 97
        }
      ]
    },
    {
      "cell_type": "markdown",
      "metadata": {
        "id": "alWpbPw1-SGW"
      },
      "source": [
        "indexは見出し、columnsは列見出し。値は金額で、合計した値を表示している。"
      ]
    },
    {
      "cell_type": "markdown",
      "metadata": {
        "id": "6Dj8HoxL5RlX"
      },
      "source": [
        "### 課題15\n",
        "\n",
        "matplotlibの折れ線グラフで、各商品の月ごとの売上を可視化してください。"
      ]
    },
    {
      "cell_type": "code",
      "metadata": {
        "id": "VxA2s30q1KDr"
      },
      "source": [
        ""
      ],
      "execution_count": null,
      "outputs": []
    },
    {
      "cell_type": "code",
      "metadata": {
        "colab": {
          "base_uri": "https://localhost:8080/",
          "height": 293
        },
        "id": "ub6AP2U2z7j1",
        "outputId": "c45d788a-b882-4744-c9c9-08361d5ea32e"
      },
      "source": [
        "import matplotlib.pyplot as plt\n",
        "%matplotlib inline\n",
        "\n",
        "plt.plot(list(data.index), data['Bag'], label='Bag')\n",
        "plt.plot(list(data.index), data['Glass'], label='Glass')\n",
        "plt.plot(list(data.index), data['PC'], label='PC')\n",
        "plt.plot(list(data.index), data['Pen'], label='Pen')\n",
        "plt.legend()"
      ],
      "execution_count": null,
      "outputs": [
        {
          "output_type": "execute_result",
          "data": {
            "text/plain": [
              "<matplotlib.legend.Legend at 0x7f55aeee1358>"
            ]
          },
          "metadata": {
            "tags": []
          },
          "execution_count": 11
        },
        {
          "output_type": "display_data",
          "data": {
            "image/png": "[encoded data removed]",
            "text/plain": [
              "<Figure size 432x288 with 1 Axes>"
            ]
          },
          "metadata": {
            "tags": [],
            "needs_background": "light"
          }
        }
      ]
    },
    {
      "cell_type": "markdown",
      "metadata": {
        "id": "yKgqUKxx9Pnb"
      },
      "source": [
        "横軸は月ごと、縦軸は金額(100万単位)の折れ線グラフ。PCが飛び抜けて高い売上を誇っており、9月に一時的に急激に売上が落ち、徐々に戻っている。Bagは10月に一時的に増加・Glassは3月に一時的に増加する。Penは通年で売上は他の三種に比べると低いが安定している。"
      ]
    }
  ]
}